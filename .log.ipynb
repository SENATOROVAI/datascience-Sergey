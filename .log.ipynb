{
 "cells": [
  {
   "cell_type": "code",
   "execution_count": null,
   "metadata": {},
   "outputs": [],
   "source": [
    "\"\"\"Модуль для логирования уроков.\"\"\""
   ]
  },
  {
   "cell_type": "code",
   "execution_count": null,
   "metadata": {},
   "outputs": [],
   "source": [
    "29.04.2024 \n",
    "1. Описание процесса обучения\n",
    "2. Установка и настройка инструментов\n",
    "3. Разбор flake8\n",
    "4. Разбор pylint \n",
    "5. Разбор pep8\n",
    "6. Разбор Black\n",
    "7. Разбор mypy\n",
    "8. Получение и отправление дз\n",
    "9. Исправление ошибок и отправление дз "
   ]
  }
 ],
 "metadata": {
  "language_info": {
   "name": "python"
  }
 },
 "nbformat": 4,
 "nbformat_minor": 2
}
