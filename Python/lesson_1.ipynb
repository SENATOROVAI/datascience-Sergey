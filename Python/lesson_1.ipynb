{
 "cells": [
  {
   "cell_type": "code",
   "execution_count": null,
   "metadata": {},
   "outputs": [],
   "source": [
    "\"\"\"The module is dedicated to 1 lesson.\"\"\""
   ]
  },
  {
   "cell_type": "code",
   "execution_count": null,
   "metadata": {},
   "outputs": [],
   "source": [
    "# flake8, pylint - это линтер\n",
    "# Линтер - это инструмент анализирующий,\n",
    "# синтаксические ошибки согласно pep8\n",
    "# pep8 - это рекомендация по стилю и синтаксису на python\n",
    "# Black (hot key - alt+shift+F) - этоинструмент\n",
    "# автоформатирования кода полинтеру\n",
    "# mypy - это инструмент аналищирующий статическую типизацию,\n",
    "# аннотацию типов"
   ]
  },
  {
   "cell_type": "markdown",
   "metadata": {},
   "source": []
  },
  {
   "cell_type": "markdown",
   "metadata": {},
   "source": [
    "Принять домашку: нажать в кошке fetch, pull\n",
    "Отдать домашку: зайти в кошку, написать название комита,нажать com нажать push\n",
    "Написать чат homework - комит отдал   "
   ]
  },
  {
   "cell_type": "code",
   "execution_count": null,
   "metadata": {},
   "outputs": [],
   "source": [
    "sum_numbers = 1 + 1"
   ]
  }
 ],
 "metadata": {
  "language_info": {
   "name": "python"
  }
 },
 "nbformat": 4,
 "nbformat_minor": 2
}
