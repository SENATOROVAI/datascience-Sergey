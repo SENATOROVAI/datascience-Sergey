{
 "cells": [
  {
   "cell_type": "code",
   "execution_count": 1,
   "metadata": {},
   "outputs": [
    {
     "data": {
      "text/plain": [
       "'Модуль посвящен формулам комбинаторики.'"
      ]
     },
     "execution_count": 1,
     "metadata": {},
     "output_type": "execute_result"
    }
   ],
   "source": [
    "\"\"\"Модуль посвящен формулам комбинаторики.\"\"\""
   ]
  },
  {
   "cell_type": "code",
   "execution_count": 3,
   "metadata": {},
   "outputs": [],
   "source": [
    "from itertools import combinations, permutations"
   ]
  },
  {
   "cell_type": "code",
   "execution_count": 4,
   "metadata": {},
   "outputs": [
    {
     "data": {
      "text/plain": [
       "[('груша', 'яблоко', 'банан'),\n",
       " ('груша', 'банан', 'яблоко'),\n",
       " ('яблоко', 'груша', 'банан'),\n",
       " ('яблоко', 'банан', 'груша'),\n",
       " ('банан', 'груша', 'яблоко'),\n",
       " ('банан', 'яблоко', 'груша')]"
      ]
     },
     "execution_count": 4,
     "metadata": {},
     "output_type": "execute_result"
    }
   ],
   "source": [
    "# структура данных - это объект который хранит в себе данные разных\n",
    "# типов чере запятую\n",
    "\n",
    "fruits = [\"груша\", \"яблоко\", \"банан\"]\n",
    "\n",
    "count_perm = permutations(fruits)\n",
    "\n",
    "(list(count_perm))\n",
    "\n",
    "# иттератор - это объекто который позволяет перебирать элементы коллекции\n",
    "\n",
    "# iter(\"wdadawawdawd\").__next__()\n",
    "\n",
    "# len?"
   ]
  },
  {
   "cell_type": "code",
   "execution_count": 4,
   "metadata": {},
   "outputs": [
    {
     "data": {
      "text/plain": [
       "['__class__',\n",
       " '__delattr__',\n",
       " '__dir__',\n",
       " '__doc__',\n",
       " '__eq__',\n",
       " '__format__',\n",
       " '__ge__',\n",
       " '__getattribute__',\n",
       " '__getstate__',\n",
       " '__gt__',\n",
       " '__hash__',\n",
       " '__init__',\n",
       " '__init_subclass__',\n",
       " '__iter__',\n",
       " '__le__',\n",
       " '__lt__',\n",
       " '__ne__',\n",
       " '__new__',\n",
       " '__next__',\n",
       " '__reduce__',\n",
       " '__reduce_ex__',\n",
       " '__repr__',\n",
       " '__setattr__',\n",
       " '__setstate__',\n",
       " '__sizeof__',\n",
       " '__str__',\n",
       " '__subclasshook__']"
      ]
     },
     "execution_count": 4,
     "metadata": {},
     "output_type": "execute_result"
    }
   ],
   "source": [
    "# type показывает тип возвращаемого объекта / или имя класса\n",
    "# eсли type не помогает то пользуемся dir\n",
    "dir(combinations)"
   ]
  },
  {
   "cell_type": "code",
   "execution_count": 5,
   "metadata": {},
   "outputs": [
    {
     "data": {
      "text/plain": [
       "['__class__',\n",
       " '__delattr__',\n",
       " '__dir__',\n",
       " '__doc__',\n",
       " '__eq__',\n",
       " '__format__',\n",
       " '__ge__',\n",
       " '__getattribute__',\n",
       " '__getstate__',\n",
       " '__gt__',\n",
       " '__hash__',\n",
       " '__init__',\n",
       " '__init_subclass__',\n",
       " '__iter__',\n",
       " '__le__',\n",
       " '__lt__',\n",
       " '__ne__',\n",
       " '__new__',\n",
       " '__next__',\n",
       " '__reduce__',\n",
       " '__reduce_ex__',\n",
       " '__repr__',\n",
       " '__setattr__',\n",
       " '__setstate__',\n",
       " '__sizeof__',\n",
       " '__str__',\n",
       " '__subclasshook__']"
      ]
     },
     "execution_count": 5,
     "metadata": {},
     "output_type": "execute_result"
    }
   ],
   "source": [
    "# функция dir показывает атрибуты и методы объекта\n",
    "# если присутсвтует __next__,__iter__ значит это итератор (два одновременно)\n",
    "dir(count_perm)"
   ]
  },
  {
   "cell_type": "code",
   "execution_count": 6,
   "metadata": {},
   "outputs": [
    {
     "name": "stdout",
     "output_type": "stream",
     "text": [
      "\u001b[1;31mType:\u001b[0m        permutations\n",
      "\u001b[1;31mString form:\u001b[0m <itertools.permutations object at 0x0000014979291B20>\n",
      "\u001b[1;31mDocstring:\u001b[0m  \n",
      "Return successive r-length permutations of elements in the iterable.\n",
      "\n",
      "permutations(range(3), 2) --> (0,1), (0,2), (1,0), (1,2), (2,0), (2,1)"
     ]
    }
   ],
   "source": [
    "# ? - сигнатура (описание объекта)\n",
    "count_perm?\n",
    "# iterable - это иттерируемый объёект который можно перебрать в цикле\n",
    "\n",
    "\n",
    "# for i in [1,2,34]:\n",
    "#     number = i + 5\n",
    "#     print(number)"
   ]
  },
  {
   "cell_type": "code",
   "execution_count": 7,
   "metadata": {},
   "outputs": [],
   "source": [
    "#  сколькими способами их можно переставить?\n",
    "# яблоко / груша / банан"
   ]
  },
  {
   "cell_type": "code",
   "execution_count": 8,
   "metadata": {},
   "outputs": [],
   "source": [
    "# подлкючаем модуль для формул перестановок, permutations - перестановка\n",
    "#  from itertools import permutations"
   ]
  },
  {
   "cell_type": "code",
   "execution_count": 9,
   "metadata": {},
   "outputs": [],
   "source": [
    "# number_of_permutation = permutations"
   ]
  },
  {
   "cell_type": "code",
   "execution_count": 10,
   "metadata": {},
   "outputs": [],
   "source": [
    "# Сигнатура - описание объекта"
   ]
  },
  {
   "cell_type": "markdown",
   "metadata": {},
   "source": [
    "iterable - это обьект в питоне который можно перебрать с помощью циклов и других конструкций"
   ]
  },
  {
   "cell_type": "markdown",
   "metadata": {},
   "source": [
    "iterable - списки, словари, кортежи и т.д. (любая структура данных)"
   ]
  },
  {
   "cell_type": "markdown",
   "metadata": {},
   "source": [
    "Примеры iterable:\n",
    "\n",
    "1. Списки: [1, 2, 3], [\"яблоко\", \"груша\", \"банан\"]\n",
    "2. Строки: \"Hello, world!\"\n",
    "3. Кортежи: (1, 2, 3), (\"яблоко\", \"груша\", \"банан\")\n",
    "4. Множества: {1, 2, 3}, {\"яблоко\", \"груша\", \"банан\"}\n",
    "5. Словари: {\"имя\": \"Вася\", \"возраст\": 30}, {\"фрукт\": \"яблоко\", \"цвет\": \"красный\"}"
   ]
  },
  {
   "cell_type": "code",
   "execution_count": 9,
   "metadata": {},
   "outputs": [],
   "source": [
    "combinations_count: str | None = None"
   ]
  },
  {
   "cell_type": "code",
   "execution_count": null,
   "metadata": {},
   "outputs": [
    {
     "data": {
      "text/plain": [
       "1365"
      ]
     },
     "execution_count": 50,
     "metadata": {},
     "output_type": "execute_result"
    }
   ],
   "source": [
    "n_ = 15\n",
    "k_ = 4\n",
    "\n",
    "len(list(combinations(range(n_), k_)))\n",
    "# count = 0\n",
    "# for i in combinations(range(n_),k_):\n",
    "#     count +=1\n",
    "# print(count)"
   ]
  }
 ],
 "metadata": {
  "kernelspec": {
   "display_name": "base",
   "language": "python",
   "name": "python3"
  },
  "language_info": {
   "codemirror_mode": {
    "name": "ipython",
    "version": 3
   },
   "file_extension": ".py",
   "mimetype": "text/x-python",
   "name": "python",
   "nbconvert_exporter": "python",
   "pygments_lexer": "ipython3",
   "version": "3.11.7"
  }
 },
 "nbformat": 4,
 "nbformat_minor": 2
}
