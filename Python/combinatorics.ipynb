{
 "cells": [
  {
   "cell_type": "code",
   "execution_count": null,
   "metadata": {},
   "outputs": [],
   "source": [
    "\"\"\"Модуль посвящен формулам комбинаторики.\"\"\""
   ]
  },
  {
   "cell_type": "code",
   "execution_count": 9,
   "metadata": {},
   "outputs": [],
   "source": [
    "# подлкючаем модуль для формул перестановок, permutations - перестановка\n",
    "#  from itertools import permutations"
   ]
  },
  {
   "cell_type": "code",
   "execution_count": 1,
   "metadata": {},
   "outputs": [],
   "source": [
    "# number_of_permutation = permutations"
   ]
  },
  {
   "cell_type": "code",
   "execution_count": 2,
   "metadata": {},
   "outputs": [],
   "source": [
    "# Сигнатура - описание объекта"
   ]
  },
  {
   "cell_type": "markdown",
   "metadata": {},
   "source": [
    "iterable - это обьект в питоне который можно перебрать с помощью циклов и других конструкций"
   ]
  },
  {
   "cell_type": "markdown",
   "metadata": {},
   "source": [
    "iterable - списки, словари, кортежи и т.д. (любая структура данных)"
   ]
  },
  {
   "cell_type": "markdown",
   "metadata": {},
   "source": [
    "Примеры iterable:\n",
    "\n",
    "1. Списки: [1, 2, 3], [\"яблоко\", \"груша\", \"банан\"]\n",
    "2. Строки: \"Hello, world!\"\n",
    "3. Кортежи: (1, 2, 3), (\"яблоко\", \"груша\", \"банан\")\n",
    "4. Множества: {1, 2, 3}, {\"яблоко\", \"груша\", \"банан\"}\n",
    "5. Словари: {\"имя\": \"Вася\", \"возраст\": 30}, {\"фрукт\": \"яблоко\", \"цвет\": \"красный\"}"
   ]
  }
 ],
 "metadata": {
  "kernelspec": {
   "display_name": "base",
   "language": "python",
   "name": "python3"
  },
  "language_info": {
   "codemirror_mode": {
    "name": "ipython",
    "version": 3
   },
   "file_extension": ".py",
   "mimetype": "text/x-python",
   "name": "python",
   "nbconvert_exporter": "python",
   "pygments_lexer": "ipython3",
   "version": "3.11.7"
  }
 },
 "nbformat": 4,
 "nbformat_minor": 2
}
