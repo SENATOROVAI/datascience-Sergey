{
 "cells": [
  {
   "cell_type": "code",
   "execution_count": null,
   "metadata": {},
   "outputs": [],
   "source": [
    "\"\"\"Модуль посвящен 4 уроку.\"\"\"\n",
    "\n",
    "# \"1. Модуль - это файл с расширением .py, а\"\n",
    "# \"пакет - это набор модулей, библиотека - это пакет.\""
   ]
  },
  {
   "cell_type": "code",
   "execution_count": null,
   "metadata": {},
   "outputs": [],
   "source": [
    "# unstage - достать из буфера на бой (локалку)"
   ]
  },
  {
   "cell_type": "markdown",
   "metadata": {},
   "source": [
    "зашел в терминал по расположению дериктории (в строке (C:\\Users\\Admin\\Documents\\GitHub\\datascience_Sergey) пишу cmd) datascince sergey и выполнил команду code ."
   ]
  }
 ],
 "metadata": {
  "kernelspec": {
   "display_name": "Python 3",
   "language": "python",
   "name": "python3"
  },
  "language_info": {
   "codemirror_mode": {
    "name": "ipython",
    "version": 3
   },
   "file_extension": ".py",
   "mimetype": "text/x-python",
   "name": "python",
   "nbconvert_exporter": "python",
   "pygments_lexer": "ipython3",
   "version": "3.12.3"
  }
 },
 "nbformat": 4,
 "nbformat_minor": 2
}
