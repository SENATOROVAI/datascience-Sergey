{
 "cells": [
  {
   "cell_type": "markdown",
   "metadata": {},
   "source": []
  },
  {
   "cell_type": "code",
   "execution_count": null,
   "metadata": {},
   "outputs": [],
   "source": [
    "\"\"\"Module providing a function printing python version.\"\"\""
   ]
  },
  {
   "cell_type": "markdown",
   "metadata": {},
   "source": [
    "1) Описание процесса обучения\\n,\n",
    "2) Установка и настройка инструментов\\n,\n",
    "3) Разбор flake8\\n,\n",
    "4) Разбор pylint\\n,\n",
    "5) Разбор pep8\\n,\n",
    "6) Разбор Black\\n,\n",
    "7) Разбор mypy\\n,\n",
    "8) Получение и отправление дз\\n,\n",
    "9) Исправление ошибок и отправление дз"
   ]
  }
 ],
 "metadata": {
  "kernelspec": {
   "display_name": "Python 3",
   "language": "python",
   "name": "python3"
  },
  "language_info": {
   "codemirror_mode": {
    "name": "ipython",
    "version": 3
   },
   "file_extension": ".py",
   "mimetype": "text/x-python",
   "name": "python",
   "nbconvert_exporter": "python",
   "pygments_lexer": "ipython3",
   "version": "3.12.3"
  }
 },
 "nbformat": 4,
 "nbformat_minor": 2
}
