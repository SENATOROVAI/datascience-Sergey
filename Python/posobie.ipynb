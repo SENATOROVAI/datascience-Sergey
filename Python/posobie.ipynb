{
 "cells": [
  {
   "cell_type": "code",
   "execution_count": null,
   "metadata": {},
   "outputs": [],
   "source": [
    "\"\"\"Модуль - конспект по пособию python.\"\"\""
   ]
  },
  {
   "cell_type": "markdown",
   "metadata": {},
   "source": [
    "<img src=\"img/image_2024-05-07_19-26-38.png\" style=\"height:300px\"></img>"
   ]
  },
  {
   "cell_type": "code",
   "execution_count": 2,
   "metadata": {},
   "outputs": [
    {
     "name": "stdout",
     "output_type": "stream",
     "text": [
      "23.0\n"
     ]
    }
   ],
   "source": [
    "number_float: float = float(input())\n",
    "print(number_float)"
   ]
  },
  {
   "cell_type": "markdown",
   "metadata": {},
   "source": [
    "input() – для ввода данных с клавиатуры;\n",
    "print() – для вывода данных в консоль"
   ]
  },
  {
   "cell_type": "markdown",
   "metadata": {},
   "source": [
    "Несмотря на то, что input всегда возвращает строки, нам в программах \n",
    "в ряде случаев будет требоваться ввод чисел. И здесь возникает \n",
    "вопрос: как число из строки преобразовать в обычное число, которое \n",
    "можно будет в последствие использовать в арифметических \n",
    "операциях? Это делается с помощью функции\n",
    "int(<аргумент>)\n",
    "Данная функция пытается переданный аргумент преобразовать в \n",
    "число и вернуть уже числовое значение. Например:"
   ]
  },
  {
   "cell_type": "code",
   "execution_count": 17,
   "metadata": {},
   "outputs": [
    {
     "data": {
      "text/plain": [
       "5"
      ]
     },
     "execution_count": 17,
     "metadata": {},
     "output_type": "execute_result"
    }
   ],
   "source": [
    "int(\"5\")"
   ]
  },
  {
   "cell_type": "markdown",
   "metadata": {},
   "source": [
    "По аналогии с int работает функция\n",
    "float(<аргумент>)\n",
    "которая преобразовывает строку в вещественное число. С ее \n",
    "помощью можно выполнять, например, такие преобразования:"
   ]
  },
  {
   "cell_type": "code",
   "execution_count": 18,
   "metadata": {},
   "outputs": [
    {
     "data": {
      "text/plain": [
       "4.5"
      ]
     },
     "execution_count": 18,
     "metadata": {},
     "output_type": "execute_result"
    }
   ],
   "source": [
    "float(\"3\")\n",
    "float(\"4.5\")"
   ]
  },
  {
   "cell_type": "code",
   "execution_count": 1,
   "metadata": {},
   "outputs": [
    {
     "name": "stdout",
     "output_type": "stream",
     "text": [
      "23.0\n"
     ]
    }
   ],
   "source": [
    "number_a: float = float(input(\"\"))\n",
    "print(number_a)"
   ]
  },
  {
   "cell_type": "markdown",
   "metadata": {},
   "source": [
    "В качестве примера рассмотрим простую программу вычисления \n",
    "периметра прямоугольника:"
   ]
  },
  {
   "cell_type": "code",
   "execution_count": 54,
   "metadata": {},
   "outputs": [
    {
     "name": "stdout",
     "output_type": "stream",
     "text": [
      "20.0\n"
     ]
    }
   ],
   "source": [
    "width_of_the_triangle: float = float(input(\"введите ширину:\"))\n",
    "length_of_the_triangle: float = float(input(\"введите длину:\"))\n",
    "perimeter_ofthe_triangle = 2 * (width_of_the_triangle + length_of_the_triangle)\n",
    "print(perimeter_ofthe_triangle)"
   ]
  },
  {
   "cell_type": "markdown",
   "metadata": {},
   "source": [
    "О функции print мы уже немного знаем, здесь рассмотрим подробнее \n",
    "различные возможности ее использования. Например, эту функцию \n",
    "можно записывать в таких вариациях:"
   ]
  },
  {
   "cell_type": "code",
   "execution_count": 35,
   "metadata": {},
   "outputs": [
    {
     "name": "stdout",
     "output_type": "stream",
     "text": [
      "1\n",
      "1 2\n",
      "1 2 3\n",
      "30\n"
     ]
    }
   ],
   "source": [
    "print(1)\n",
    "print(1, 2)\n",
    "print(1, 2, 3)\n",
    "print((2 * 3) + (3 * 8))"
   ]
  },
  {
   "cell_type": "markdown",
   "metadata": {},
   "source": [
    "И так далее, число аргументов может быть произвольным. \n",
    "Соответственно все эти значения в строчку будут выведены в \n",
    "консоли. Причем, значения разделяются между собой пробелом. Это \n",
    "разделитель, который используется по умолчанию. Если нужно \n",
    "изменить значение этого разделителя, то для этого используется \n",
    "специальный именованный аргумент sep:"
   ]
  },
  {
   "cell_type": "code",
   "execution_count": 36,
   "metadata": {},
   "outputs": [
    {
     "name": "stdout",
     "output_type": "stream",
     "text": [
      "1,2,3\n",
      "1-2-3\n",
      "1***2***3\n"
     ]
    }
   ],
   "source": [
    "print(1, 2, 3, sep=\",\")\n",
    "print(1, 2, 3, sep=\"-\")\n",
    "print(1, 2, 3, sep=\"***\")"
   ]
  },
  {
   "cell_type": "markdown",
   "metadata": {},
   "source": [
    "Далее, вы уже заметили, что каждый вызов функции print делает \n",
    "перевод строки. Этот символ автоматически добавляет в конец \n",
    "выводимых данных. Но, мы также можем его изменить. Для этого \n",
    "используется именованный аргумент end:"
   ]
  },
  {
   "cell_type": "code",
   "execution_count": 39,
   "metadata": {},
   "outputs": [
    {
     "name": "stdout",
     "output_type": "stream",
     "text": [
      "1,2,3:1-2-3--end--\n",
      "1***2***3\n"
     ]
    }
   ],
   "source": [
    "print(1, 2, 3, sep=\",\", end=\":\")\n",
    "print(1, 2, 3, sep=\"-\", end=\"--end--\\n\")\n",
    "print(1, 2, 3, sep=\"***\")"
   ]
  },
  {
   "cell_type": "markdown",
   "metadata": {},
   "source": [
    "Смотрите, теперь у нас после первой строчки нет перевода строки, а \n",
    "поставлено двоеточие с пробелом, которые мы указали в аргументе \n",
    "end. После второго вывода в конце была добавлена строчка и указан \n",
    "символ ‘\\n’ перевода строки."
   ]
  },
  {
   "cell_type": "markdown",
   "metadata": {},
   "source": [
    "В качестве примера все это можно использовать для более гибкого \n",
    "вывода значений с помощью print:"
   ]
  },
  {
   "cell_type": "code",
   "execution_count": 53,
   "metadata": {},
   "outputs": [
    {
     "name": "stdout",
     "output_type": "stream",
     "text": [
      "Имя: Федор\n"
     ]
    }
   ],
   "source": [
    "name: str = \"Федор\"\n",
    "print(\"Имя\", name, sep=\": \")"
   ]
  },
  {
   "cell_type": "markdown",
   "metadata": {},
   "source": [
    "Но это не самый удобный вывод значений. Функция print позволяет \n",
    "делать довольно гибкий форматированный вывод данных с \n",
    "применением спецификаторов. Например:"
   ]
  },
  {
   "cell_type": "code",
   "execution_count": 2,
   "metadata": {},
   "outputs": [
    {
     "name": "stdout",
     "output_type": "stream",
     "text": [
      "Федор, 18\n"
     ]
    }
   ],
   "source": [
    "name_human: str = \"Федор\"\n",
    "age: int = 18\n",
    "print(f\"{name_human}, {age}\")"
   ]
  },
  {
   "cell_type": "markdown",
   "metadata": {},
   "source": [
    "В результате, вместо спецификатора %s будет подставлена первая \n",
    "переменная, указанная в скобках, в виде строки, а вместо %d – вторая \n",
    "переменная age в виде целого числа. То есть, для каждого типа \n",
    "данных существует свой спецификатор. Наиболее употребительные,\n",
    "следующие:\n",
    "• %d, %i, %u – для вывода целочисленных значений;\n",
    "• %f – для вывода вещественных значений;\n",
    "• %s – для вывода строк;\n",
    "• %% - для вывода символа %"
   ]
  },
  {
   "cell_type": "markdown",
   "metadata": {},
   "source": [
    "И как уже говорили, в этом языке имеется три базовых типа для \n",
    "представления чисел:\n",
    "• int – для целочисленных значений;\n",
    "• float – для вещественных;\n",
    "• complex – для комплексных.\n",
    "\n",
    "С этими числами можно выполнять следующие арифметические \n",
    "операции:"
   ]
  },
  {
   "cell_type": "markdown",
   "metadata": {},
   "source": [
    "<img src=\"img\\image_2024-05-08_23-09-38.png\" style=\"height:200px\"></img>"
   ]
  },
  {
   "cell_type": "markdown",
   "metadata": {},
   "source": [
    "И введем несколько определений:\n",
    "Операнд – то, к чему применяется оператор. Например, в \n",
    "умножении 5 * 2 есть два операнда: левый операнд равен 5, а правый \n",
    "операнд равен 2. Иногда их называют «аргументами» вместо \n",
    "«операндов».\n",
    "Унарным называется оператор, который применяется к одному \n",
    "операнду.\n",
    "Например, оператор унарный минус \"-\" меняет знак числа на \n",
    "противоположный:"
   ]
  },
  {
   "cell_type": "code",
   "execution_count": 10,
   "metadata": {},
   "outputs": [
    {
     "name": "stdout",
     "output_type": "stream",
     "text": [
      "-5\n"
     ]
    }
   ],
   "source": [
    "# унарный минус\n",
    "positive_number_1: float = 5\n",
    "positive_number_: float = -positive_number_1\n",
    "print(positive_number_)"
   ]
  },
  {
   "cell_type": "markdown",
   "metadata": {},
   "source": [
    "Бинарным называется оператор, который применяется к двум \n",
    "операндам.\n",
    "Тот же минус существует и в бинарной форме:"
   ]
  },
  {
   "cell_type": "code",
   "execution_count": 11,
   "metadata": {},
   "outputs": [
    {
     "name": "stdout",
     "output_type": "stream",
     "text": [
      "5\n"
     ]
    }
   ],
   "source": [
    "positive_num_1: float = 1\n",
    "positive_num_2: float = 6\n",
    "difference_1 = positive_num_2 - positive_num_1  # - это бинарный минус\n",
    "print(difference_1)"
   ]
  },
  {
   "cell_type": "markdown",
   "metadata": {},
   "source": [
    "Раз мы начали говорить об операциях + и -, то продолжим и отметим, \n",
    "что, в общем случае, можно использовать унарный плюс и минус, \n",
    "например:"
   ]
  },
  {
   "cell_type": "code",
   "execution_count": 50,
   "metadata": {},
   "outputs": [
    {
     "name": "stdout",
     "output_type": "stream",
     "text": [
      "10 -10\n"
     ]
    }
   ],
   "source": [
    "unary_plus_and_minus: float = 10\n",
    "print(+unary_plus_and_minus, -unary_plus_and_minus)"
   ]
  },
  {
   "cell_type": "markdown",
   "metadata": {},
   "source": [
    "Конечно, +a это то же самое, что и a, поэтому, в основном, \n",
    "используется унарный минус. По приоритету унарные операции выше \n",
    "бинарных операций. Например, вот такая запись:\n",
    "print(-a+b)\n",
    "означает, что число –a возводится в степень 2, то есть, унарный минус \n",
    "имеет больший приоритет, чем бинарная операция ** возведения в \n",
    "степень.\n",
    "Если же используются бинарные сложение и вычитание:"
   ]
  },
  {
   "cell_type": "code",
   "execution_count": 15,
   "metadata": {},
   "outputs": [
    {
     "name": "stdout",
     "output_type": "stream",
     "text": [
      "-8\n",
      "12\n"
     ]
    }
   ],
   "source": [
    "number_1: float = 2\n",
    "number_2: float = -10\n",
    "print(number_1 + number_2)\n",
    "print(number_1 - number_2)"
   ]
  },
  {
   "cell_type": "markdown",
   "metadata": {},
   "source": [
    "то их приоритет становится наименьшим среди всех арифметических \n",
    "операций (они выполняются в последнюю очередь).\n",
    "Следующая бинарная операция умножение работает так, как мы \n",
    "привыкли ее использовать в математике:"
   ]
  },
  {
   "cell_type": "code",
   "execution_count": 4,
   "metadata": {},
   "outputs": [
    {
     "name": "stdout",
     "output_type": "stream",
     "text": [
      "-11.339999999999998\n"
     ]
    }
   ],
   "source": [
    "number_point_1: float = 2\n",
    "number_point_2: float = -5.8\n",
    "number_point_3: float = 2.3\n",
    "print(number_point_1 + number_point_2 * number_point_3)"
   ]
  },
  {
   "cell_type": "markdown",
   "metadata": {},
   "source": [
    "Здесь сначала выполнится умножение, а затем – сложение. Если \n",
    "необходимо изменить приоритет выполнения операций, то \n",
    "используются круглые скобки:"
   ]
  },
  {
   "cell_type": "code",
   "execution_count": 5,
   "metadata": {},
   "outputs": [
    {
     "name": "stdout",
     "output_type": "stream",
     "text": [
      "17.939999999999998\n"
     ]
    }
   ],
   "source": [
    "figure_1: float = 2\n",
    "figure_2: float = 5.8\n",
    "figure_3: float = 2.3\n",
    "print((figure_1 + figure_2) * figure_3)"
   ]
  },
  {
   "cell_type": "markdown",
   "metadata": {},
   "source": [
    "Далее, деление двух чисел (или переменных) можно выполнить двумя \n",
    "способами. Первый – традиционный, делает деление, привычное в \n",
    "математике, например:\n",
    "3/2\n",
    "получим ожидаемый результат 1,5. Однако те из вас, кто имеет опыт \n",
    "программирования на таких языках как С++ или Java, знают, что при \n",
    "делении двух целочисленных значений, результат также получался \n",
    "целочисленным. Но в Python это не так! Его арифметические \n",
    "операции работают в соответствии с классическими правилами \n",
    "математики и деление здесь – это всегда полноценное деление двух \n",
    "значений, какими бы они ни были.\n",
    "Однако, если все же требуется выполнить целочисленное деление (то \n",
    "есть, с отбрасыванием дробной части), то используется такой \n",
    "оператор:\n",
    "3//2"
   ]
  },
  {
   "cell_type": "code",
   "execution_count": 46,
   "metadata": {},
   "outputs": [
    {
     "name": "stdout",
     "output_type": "stream",
     "text": [
      "1\n"
     ]
    }
   ],
   "source": [
    "divisible: float = 3\n",
    "divider: int = 2\n",
    "print(divisible // divider)"
   ]
  },
  {
   "cell_type": "markdown",
   "metadata": {},
   "source": [
    "И, как видите, теперь результат 1, а не 1,5. Причем, это \n",
    "целочисленное деление будет выполняться и с вещественными \n",
    "числами:\n",
    "3.2//2"
   ]
  },
  {
   "cell_type": "code",
   "execution_count": 78,
   "metadata": {},
   "outputs": [
    {
     "name": "stdout",
     "output_type": "stream",
     "text": [
      "2.0\n"
     ]
    }
   ],
   "source": [
    "divisible_1: float = 4.8\n",
    "divider_2: int = 2\n",
    "print(divisible_1 // divider_2)"
   ]
  },
  {
   "cell_type": "markdown",
   "metadata": {},
   "source": [
    "Если же хотим вычислить остаток от целочисленного деления, то \n",
    "используется оператор:\n",
    "x % y\n",
    "С положительными целыми числами он работает также как и во \n",
    "многих других языках программирования. Например:"
   ]
  },
  {
   "cell_type": "code",
   "execution_count": 69,
   "metadata": {},
   "outputs": [
    {
     "name": "stdout",
     "output_type": "stream",
     "text": [
      "4\n"
     ]
    }
   ],
   "source": [
    "print(4 % 5)"
   ]
  },
  {
   "cell_type": "markdown",
   "metadata": {},
   "source": [
    "и так далее, мы будем получать числа от 0 до 4. Но с отрицательными \n",
    "числами вычисления будут отличаться от того же языка С++. \n",
    "Например,"
   ]
  },
  {
   "cell_type": "code",
   "execution_count": 7,
   "metadata": {},
   "outputs": [
    {
     "name": "stdout",
     "output_type": "stream",
     "text": [
      "1\n"
     ]
    }
   ],
   "source": [
    "number_1_1: float = -9\n",
    "number_2_1: float = 5\n",
    "print(-9 % 5)  # (в С++ это -4, а в python - это 1)"
   ]
  },
  {
   "cell_type": "markdown",
   "metadata": {},
   "source": [
    "Почему так? Дело в том, что когда то давно инженеры фирмы Intell \n",
    "неверно математически реализовали данную операцию. И язык С++ \n",
    "как наследник этой интеловской архитектуры реализует данную \n",
    "операцию путем вынесения знака «-» за скобки и вычисления \n",
    "обычного остатка от деления. Язык же Python делает это так, как \n",
    "принято в математике. Сначала находится ближайшее наименьшее \n",
    "число кратное 5. Это число -10 (для числа -9) и остаток берется как \n",
    "разность между этими числами:"
   ]
  },
  {
   "cell_type": "markdown",
   "metadata": {},
   "source": [
    "<img src=\"img\\image_2024-05-09_21-52-48.png\" style=\"height:150px\"></img>"
   ]
  },
  {
   "cell_type": "markdown",
   "metadata": {},
   "source": [
    "то есть, остатки всегда будут положительными в диапазоне от 0 до 4, \n",
    "как это и должно быть по математике."
   ]
  },
  {
   "cell_type": "markdown",
   "metadata": {},
   "source": [
    "Все рассмотренные операторы (*, /, //, %) имеют одинаковый \n",
    "приоритет и выполняются слева-направо. То есть, если записать\n",
    "a/b*c"
   ]
  },
  {
   "cell_type": "code",
   "execution_count": 13,
   "metadata": {},
   "outputs": [
    {
     "name": "stdout",
     "output_type": "stream",
     "text": [
      "25.0\n"
     ]
    }
   ],
   "source": [
    "number_a_a: float = 5\n",
    "number_a_b: float = 8\n",
    "number_a_c: float = 40\n",
    "print(number_a_a / number_a_b * number_a_c)"
   ]
  },
  {
   "cell_type": "markdown",
   "metadata": {},
   "source": [
    "Следующая операция – возведение в степень. В самом простом \n",
    "варианте она записывается так:\n",
    "x=2; y=5;\n",
    "x**y\n",
    "здесь x, y могут быть и дробными числами. Например:\n",
    "x=1.96; y=0.5;\n",
    "x**y"
   ]
  },
  {
   "cell_type": "code",
   "execution_count": 82,
   "metadata": {},
   "outputs": [
    {
     "name": "stdout",
     "output_type": "stream",
     "text": [
      "117.29730800599916\n",
      "36\n"
     ]
    }
   ],
   "source": [
    "param: float = 2.5\n",
    "param_x: float = 5.2\n",
    "# print(param**param_x)\n",
    "\n",
    "word_x_1: float = 6\n",
    "degree_word_x_1: float = 2\n",
    "# print(word_x_1**degree_word_x_1)"
   ]
  },
  {
   "cell_type": "markdown",
   "metadata": {},
   "source": [
    "Это будет соответствовать извлечению квадратного корня из 1,96. \n",
    "Если запишем такую конструкцию:\n",
    "27**(1/3)"
   ]
  },
  {
   "cell_type": "code",
   "execution_count": 67,
   "metadata": {},
   "outputs": [],
   "source": [
    "word_x_x: float = 27\n",
    "word_x_y: float = 1\n",
    "word_x_u: float = 3"
   ]
  },
  {
   "cell_type": "markdown",
   "metadata": {},
   "source": [
    "то получим кубический корень из 27. Причем, обратите внимание, \n",
    "круглые скобки у степени здесь обязательны, т.к. приоритет операции \n",
    "** выше, чем у деления. Если записать вот так:\n",
    "27**1/3"
   ]
  },
  {
   "cell_type": "markdown",
   "metadata": {},
   "source": [
    "Вот на это следует обращать внимание. И еще один нюанс. Операция \n",
    "возведения в степень выполняется справа-налево. То есть, если \n",
    "записать вот такую строчку:\n",
    "2**3**2"
   ]
  },
  {
   "cell_type": "markdown",
   "metadata": {},
   "source": [
    "Сначала (справа) вычисляется 3**2 = 9, а затем, 2**9 = 512. Все \n",
    "остальные арифметические операции работают слева-направо."
   ]
  },
  {
   "cell_type": "markdown",
   "metadata": {},
   "source": [
    "Используя оператор присваивания совместно с арифметическими \n",
    "операторами, можно выполнять некоторые полезные арифметические \n",
    "преобразования переменных. Например, очень часто требуется \n",
    "увеличить или уменьшить некую переменную на определенное число. \n",
    "Это можно сделать вот так:\n",
    "i = 5; j = 3\n",
    "i = i+1\n",
    "j = j-2\n",
    "print(i, j)"
   ]
  },
  {
   "cell_type": "code",
   "execution_count": 9,
   "metadata": {},
   "outputs": [
    {
     "name": "stdout",
     "output_type": "stream",
     "text": [
      "6 1\n"
     ]
    }
   ],
   "source": [
    "increase_the_variable: float = 5\n",
    "variable_1: float = 3\n",
    "num_1 = increase_the_variable + 1\n",
    "num_2 = variable_1 - 2\n",
    "print(num_1, num_2)"
   ]
  },
  {
   "cell_type": "markdown",
   "metadata": {},
   "source": [
    "Но, можно и короче, вот так:"
   ]
  },
  {
   "cell_type": "code",
   "execution_count": 23,
   "metadata": {},
   "outputs": [
    {
     "name": "stdout",
     "output_type": "stream",
     "text": [
      "6 1\n"
     ]
    }
   ],
   "source": [
    "variable_1_1: float = 5\n",
    "variable_2_1: float = 3\n",
    "variable_1_1 += 1\n",
    "variable_2_1 -= 2\n",
    "print(variable_1_1, variable_2_1)"
   ]
  },
  {
   "cell_type": "markdown",
   "metadata": {},
   "source": [
    "Они довольно часто используются в программировании. Также, \n",
    "помимо сложения и вычитания, можно записывать и такие выражения:\n",
    "i *= 3\n",
    "j /= 4\n",
    "print(i, j)\n",
    "a = 5; b = 10\n",
    "a **= 2\n",
    "b //= 3\n",
    "print(a, b)"
   ]
  },
  {
   "cell_type": "code",
   "execution_count": 24,
   "metadata": {},
   "outputs": [
    {
     "name": "stdout",
     "output_type": "stream",
     "text": [
      "12 6.0\n",
      "25 3\n"
     ]
    }
   ],
   "source": [
    "plus_1: float = 4\n",
    "plus_2: float = 24\n",
    "plus_1 *= 3\n",
    "plus_2 /= 4\n",
    "print(plus_1, plus_2)\n",
    "\n",
    "addition_1: float = 5\n",
    "addition_2: float = 10\n",
    "addition_1 **= 2\n",
    "addition_2 //= 3\n",
    "print(addition_1, addition_2)"
   ]
  },
  {
   "cell_type": "markdown",
   "metadata": {},
   "source": [
    "То есть, здесь до оператора присваивания можно записывать любую \n",
    "арифметическую операцию.\n",
    "Все рассмотренные арифметические операции можно выполнять и с \n",
    "комплексными числами:\n",
    "a = 1 + 2j\n",
    "b = 2 - 3j\n",
    "print(a+b)\n",
    "print(a-b)\n",
    "print(a*b)\n",
    "print(a/b)\n",
    "print(a**b)"
   ]
  },
  {
   "cell_type": "code",
   "execution_count": 25,
   "metadata": {},
   "outputs": [
    {
     "name": "stdout",
     "output_type": "stream",
     "text": [
      "1\n",
      "9\n",
      "-20\n",
      "-1.25\n",
      "0.0016\n"
     ]
    }
   ],
   "source": [
    "numb_1: float = 2\n",
    "numb_2: float = 6\n",
    "numb_3: float = 1 + 2 * numb_1\n",
    "numb_4: float = 2 - 3 * numb_1\n",
    "print(numb_3 + numb_4)\n",
    "print(numb_3 - numb_4)\n",
    "print(numb_3 * numb_4)\n",
    "print(numb_3 / numb_4)\n",
    "# print(numb_3**numb_4)"
   ]
  },
  {
   "cell_type": "markdown",
   "metadata": {},
   "source": [
    "Кроме операции целочисленного деления // и вычисления остатка от \n",
    "деления %. Дополнительно у объектов комплексных чисел есть \n",
    "свойства:\n",
    "a = 1 + 2j\n",
    "b = 2 - 3j\n",
    "print(a.real)\n",
    "print(b.imag)"
   ]
  },
  {
   "cell_type": "code",
   "execution_count": 26,
   "metadata": {},
   "outputs": [
    {
     "name": "stdout",
     "output_type": "stream",
     "text": [
      "3\n",
      "0\n",
      "3\n"
     ]
    }
   ],
   "source": [
    "numbe_1: float = 1\n",
    "numbe_2: float = 1 + 2 * numbe_1\n",
    "numbe_3: float = 2 - 3 * numbe_1\n",
    "print(numbe_2.real)\n",
    "print(numbe_3.imag)\n",
    "sa = numbe_2.conjugate()\n",
    "print(sa)"
   ]
  },
  {
   "cell_type": "markdown",
   "metadata": {},
   "source": [
    "для взятия действительной и мнимой части. И полезный метод:\n",
    "sa = a.conjugate();\n",
    "print(sa)\n",
    "для получения комплексно-сопряженного числа."
   ]
  },
  {
   "cell_type": "markdown",
   "metadata": {},
   "source": [
    "В языке Python имеются встроенные функции для работы с числами. \n",
    "Наиболее полезные, следующие:"
   ]
  },
  {
   "cell_type": "markdown",
   "metadata": {},
   "source": [
    "<img src=\"img/image_2024-05-09_22-48-30.png\" \n",
    "    style=\"height:150px\"></img>"
   ]
  },
  {
   "cell_type": "code",
   "execution_count": 34,
   "metadata": {},
   "outputs": [
    {
     "name": "stdout",
     "output_type": "stream",
     "text": [
      "6\n",
      "6\n",
      "4\n",
      "45\n",
      "103945637534048876111514866313854976\n"
     ]
    }
   ],
   "source": [
    "num_ber_1: int = 6\n",
    "num_ber_2: float = 4\n",
    "num_ber_3: float = 9\n",
    "num_ber_4: int = 45\n",
    "print(abs(num_ber_1))\n",
    "print(round(num_ber_1))\n",
    "print(min(num_ber_1, num_ber_2, num_ber_3, num_ber_4))\n",
    "print(max(num_ber_1, num_ber_2, num_ber_3, num_ber_4))\n",
    "# print(pow(num_ber_1, num_ber_4))"
   ]
  },
  {
   "cell_type": "markdown",
   "metadata": {},
   "source": [
    "Также в языке Python имеется стандартная библиотека math, которая \n",
    "содержит большое количество стандартных математических функций. \n",
    "Чтобы ей воспользоваться, необходимо вначале программы \n",
    "подключить эту библиотеку. Делается это с помощью ключевого слова \n",
    "import, за которым указывается имя библиотеки:\n",
    "import math"
   ]
  },
  {
   "cell_type": "markdown",
   "metadata": {},
   "source": [
    "После этого становятся доступными следующие полезные функции:"
   ]
  },
  {
   "cell_type": "markdown",
   "metadata": {},
   "source": [
    "<img src=\"img/image_2024-05-09_22-55-19.png\" \n",
    "    style=\"height:300px\"></img>"
   ]
  },
  {
   "cell_type": "markdown",
   "metadata": {},
   "source": [
    "Помимо этих есть и другие математические функции. При \n",
    "необходимости, о них можно почитать в официальной документации \n",
    "языка Python.\n",
    "Применение этих функций вполне очевидно, например, их можно \n",
    "вызвать вот так:\n",
    "import math\n",
    "a = 2.4\n",
    "b = math.cos(a)\n",
    "print(b)\n",
    "print( math.floor(1.7) )\n",
    "print( math.ceil(1.7) )\n",
    "print( math.sqrt(2.56) )"
   ]
  },
  {
   "cell_type": "markdown",
   "metadata": {},
   "source": [
    "И так далее. Вот так работают арифметические операции в Python и \n",
    "вот такие математические функции имеются в стандартной \n",
    "библиотеке math."
   ]
  }
 ],
 "metadata": {
  "kernelspec": {
   "display_name": "Python 3",
   "language": "python",
   "name": "python3"
  },
  "language_info": {
   "codemirror_mode": {
    "name": "ipython",
    "version": 3
   },
   "file_extension": ".py",
   "mimetype": "text/x-python",
   "name": "python",
   "nbconvert_exporter": "python",
   "pygments_lexer": "ipython3",
   "version": "3.12.3"
  }
 },
 "nbformat": 4,
 "nbformat_minor": 2
}
