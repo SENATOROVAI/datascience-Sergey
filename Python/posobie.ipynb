{
 "cells": [
  {
   "cell_type": "code",
   "execution_count": null,
   "metadata": {},
   "outputs": [],
   "source": [
    "\"\"\"Модуль - конспект по пособию python.\"\"\""
   ]
  },
  {
   "cell_type": "markdown",
   "metadata": {},
   "source": [
    "<img src=\"img/image_2024-05-07_19-26-38.png\" style=\"height:300px\"></img>"
   ]
  },
  {
   "cell_type": "code",
   "execution_count": 2,
   "metadata": {},
   "outputs": [
    {
     "name": "stdout",
     "output_type": "stream",
     "text": [
      "23.0\n"
     ]
    }
   ],
   "source": [
    "number_float: float = float(input())\n",
    "print(number_float)"
   ]
  },
  {
   "cell_type": "markdown",
   "metadata": {},
   "source": [
    "input() – для ввода данных с клавиатуры;\n",
    "print() – для вывода данных в консоль"
   ]
  },
  {
   "cell_type": "markdown",
   "metadata": {},
   "source": [
    "Несмотря на то, что input всегда возвращает строки, нам в программах \n",
    "в ряде случаев будет требоваться ввод чисел. И здесь возникает \n",
    "вопрос: как число из строки преобразовать в обычное число, которое \n",
    "можно будет в последствие использовать в арифметических \n",
    "операциях? Это делается с помощью функции\n",
    "int(<аргумент>)\n",
    "Данная функция пытается переданный аргумент преобразовать в \n",
    "число и вернуть уже числовое значение. Например:"
   ]
  },
  {
   "cell_type": "code",
   "execution_count": 17,
   "metadata": {},
   "outputs": [
    {
     "data": {
      "text/plain": [
       "5"
      ]
     },
     "execution_count": 17,
     "metadata": {},
     "output_type": "execute_result"
    }
   ],
   "source": [
    "int(\"5\")"
   ]
  },
  {
   "cell_type": "markdown",
   "metadata": {},
   "source": [
    "По аналогии с int работает функция\n",
    "float(<аргумент>)\n",
    "которая преобразовывает строку в вещественное число. С ее \n",
    "помощью можно выполнять, например, такие преобразования:"
   ]
  },
  {
   "cell_type": "code",
   "execution_count": 18,
   "metadata": {},
   "outputs": [
    {
     "data": {
      "text/plain": [
       "4.5"
      ]
     },
     "execution_count": 18,
     "metadata": {},
     "output_type": "execute_result"
    }
   ],
   "source": [
    "float(\"3\")\n",
    "float(\"4.5\")"
   ]
  },
  {
   "cell_type": "code",
   "execution_count": 1,
   "metadata": {},
   "outputs": [
    {
     "name": "stdout",
     "output_type": "stream",
     "text": [
      "23.0\n"
     ]
    }
   ],
   "source": [
    "number_a: float = float(input(\"\"))\n",
    "print(number_a)"
   ]
  },
  {
   "cell_type": "markdown",
   "metadata": {},
   "source": [
    "В качестве примера рассмотрим простую программу вычисления \n",
    "периметра прямоугольника:"
   ]
  },
  {
   "cell_type": "code",
   "execution_count": 54,
   "metadata": {},
   "outputs": [
    {
     "name": "stdout",
     "output_type": "stream",
     "text": [
      "20.0\n"
     ]
    }
   ],
   "source": [
    "width_of_the_triangle: float = float(input(\"введите ширину:\"))\n",
    "length_of_the_triangle: float = float(input(\"введите длину:\"))\n",
    "perimeter_ofthe_triangle = 2 * (width_of_the_triangle + length_of_the_triangle)\n",
    "print(perimeter_ofthe_triangle)"
   ]
  },
  {
   "cell_type": "markdown",
   "metadata": {},
   "source": [
    "О функции print мы уже немного знаем, здесь рассмотрим подробнее \n",
    "различные возможности ее использования. Например, эту функцию \n",
    "можно записывать в таких вариациях:"
   ]
  },
  {
   "cell_type": "code",
   "execution_count": 35,
   "metadata": {},
   "outputs": [
    {
     "name": "stdout",
     "output_type": "stream",
     "text": [
      "1\n",
      "1 2\n",
      "1 2 3\n",
      "30\n"
     ]
    }
   ],
   "source": [
    "print(1)\n",
    "print(1, 2)\n",
    "print(1, 2, 3)\n",
    "print((2 * 3) + (3 * 8))"
   ]
  },
  {
   "cell_type": "markdown",
   "metadata": {},
   "source": [
    "И так далее, число аргументов может быть произвольным. \n",
    "Соответственно все эти значения в строчку будут выведены в \n",
    "консоли. Причем, значения разделяются между собой пробелом. Это \n",
    "разделитель, который используется по умолчанию. Если нужно \n",
    "изменить значение этого разделителя, то для этого используется \n",
    "специальный именованный аргумент sep:"
   ]
  },
  {
   "cell_type": "code",
   "execution_count": 36,
   "metadata": {},
   "outputs": [
    {
     "name": "stdout",
     "output_type": "stream",
     "text": [
      "1,2,3\n",
      "1-2-3\n",
      "1***2***3\n"
     ]
    }
   ],
   "source": [
    "print(1, 2, 3, sep=\",\")\n",
    "print(1, 2, 3, sep=\"-\")\n",
    "print(1, 2, 3, sep=\"***\")"
   ]
  },
  {
   "cell_type": "markdown",
   "metadata": {},
   "source": [
    "Далее, вы уже заметили, что каждый вызов функции print делает \n",
    "перевод строки. Этот символ автоматически добавляет в конец \n",
    "выводимых данных. Но, мы также можем его изменить. Для этого \n",
    "используется именованный аргумент end:"
   ]
  },
  {
   "cell_type": "code",
   "execution_count": 39,
   "metadata": {},
   "outputs": [
    {
     "name": "stdout",
     "output_type": "stream",
     "text": [
      "1,2,3:1-2-3--end--\n",
      "1***2***3\n"
     ]
    }
   ],
   "source": [
    "print(1, 2, 3, sep=\",\", end=\":\")\n",
    "print(1, 2, 3, sep=\"-\", end=\"--end--\\n\")\n",
    "print(1, 2, 3, sep=\"***\")"
   ]
  },
  {
   "cell_type": "markdown",
   "metadata": {},
   "source": [
    "Смотрите, теперь у нас после первой строчки нет перевода строки, а \n",
    "поставлено двоеточие с пробелом, которые мы указали в аргументе \n",
    "end. После второго вывода в конце была добавлена строчка и указан \n",
    "символ ‘\\n’ перевода строки."
   ]
  },
  {
   "cell_type": "markdown",
   "metadata": {},
   "source": [
    "В качестве примера все это можно использовать для более гибкого \n",
    "вывода значений с помощью print:"
   ]
  },
  {
   "cell_type": "code",
   "execution_count": 53,
   "metadata": {},
   "outputs": [
    {
     "name": "stdout",
     "output_type": "stream",
     "text": [
      "Имя: Федор\n"
     ]
    }
   ],
   "source": [
    "name: str = \"Федор\"\n",
    "print(\"Имя\", name, sep=\": \")"
   ]
  },
  {
   "cell_type": "markdown",
   "metadata": {},
   "source": [
    "Но это не самый удобный вывод значений. Функция print позволяет \n",
    "делать довольно гибкий форматированный вывод данных с \n",
    "применением спецификаторов. Например:"
   ]
  },
  {
   "cell_type": "code",
   "execution_count": 2,
   "metadata": {},
   "outputs": [
    {
     "name": "stdout",
     "output_type": "stream",
     "text": [
      "Федор, 18\n"
     ]
    }
   ],
   "source": [
    "name_human: str = \"Федор\"\n",
    "age: int = 18\n",
    "print(f\"{name_human}, {age}\")"
   ]
  },
  {
   "cell_type": "markdown",
   "metadata": {},
   "source": [
    "В результате, вместо спецификатора %s будет подставлена первая \n",
    "переменная, указанная в скобках, в виде строки, а вместо %d – вторая \n",
    "переменная age в виде целого числа. То есть, для каждого типа \n",
    "данных существует свой спецификатор. Наиболее употребительные,\n",
    "следующие:\n",
    "• %d, %i, %u – для вывода целочисленных значений;\n",
    "• %f – для вывода вещественных значений;\n",
    "• %s – для вывода строк;\n",
    "• %% - для вывода символа %"
   ]
  },
  {
   "cell_type": "markdown",
   "metadata": {},
   "source": [
    "И как уже говорили, в этом языке имеется три базовых типа для \n",
    "представления чисел:\n",
    "• int – для целочисленных значений;\n",
    "• float – для вещественных;\n",
    "• complex – для комплексных.\n",
    "\n",
    "С этими числами можно выполнять следующие арифметические \n",
    "операции:"
   ]
  },
  {
   "cell_type": "markdown",
   "metadata": {},
   "source": [
    "<img src=\"img\\image_2024-05-08_23-09-38.png\" style=\"height:200px\"></img>"
   ]
  },
  {
   "cell_type": "markdown",
   "metadata": {},
   "source": [
    "И введем несколько определений:\n",
    "Операнд – то, к чему применяется оператор. Например, в \n",
    "умножении 5 * 2 есть два операнда: левый операнд равен 5, а правый \n",
    "операнд равен 2. Иногда их называют «аргументами» вместо \n",
    "«операндов».\n",
    "Унарным называется оператор, который применяется к одному \n",
    "операнду.\n",
    "Например, оператор унарный минус \"-\" меняет знак числа на \n",
    "противоположный:"
   ]
  },
  {
   "cell_type": "code",
   "execution_count": 10,
   "metadata": {},
   "outputs": [
    {
     "name": "stdout",
     "output_type": "stream",
     "text": [
      "-5\n"
     ]
    }
   ],
   "source": [
    "# унарный минус\n",
    "positive_number_1: float = 5\n",
    "positive_number_: float = -positive_number_1\n",
    "print(positive_number_)"
   ]
  },
  {
   "cell_type": "markdown",
   "metadata": {},
   "source": [
    "Бинарным называется оператор, который применяется к двум \n",
    "операндам.\n",
    "Тот же минус существует и в бинарной форме:"
   ]
  },
  {
   "cell_type": "code",
   "execution_count": 11,
   "metadata": {},
   "outputs": [
    {
     "name": "stdout",
     "output_type": "stream",
     "text": [
      "5\n"
     ]
    }
   ],
   "source": [
    "positive_num_1: float = 1\n",
    "positive_num_2: float = 6\n",
    "difference_1 = positive_num_2 - positive_num_1  # - это бинарный минус\n",
    "print(difference_1)"
   ]
  },
  {
   "cell_type": "markdown",
   "metadata": {},
   "source": [
    "Раз мы начали говорить об операциях + и -, то продолжим и отметим, \n",
    "что, в общем случае, можно использовать унарный плюс и минус, \n",
    "например:"
   ]
  },
  {
   "cell_type": "code",
   "execution_count": 50,
   "metadata": {},
   "outputs": [
    {
     "name": "stdout",
     "output_type": "stream",
     "text": [
      "10 -10\n"
     ]
    }
   ],
   "source": [
    "unary_plus_and_minus: float = 10\n",
    "print(+unary_plus_and_minus, -unary_plus_and_minus)"
   ]
  },
  {
   "cell_type": "markdown",
   "metadata": {},
   "source": [
    "Конечно, +a это то же самое, что и a, поэтому, в основном, \n",
    "используется унарный минус. По приоритету унарные операции выше \n",
    "бинарных операций. Например, вот такая запись:\n",
    "print(-a+b)\n",
    "означает, что число –a возводится в степень 2, то есть, унарный минус \n",
    "имеет больший приоритет, чем бинарная операция ** возведения в \n",
    "степень.\n",
    "Если же используются бинарные сложение и вычитание:"
   ]
  },
  {
   "cell_type": "code",
   "execution_count": 15,
   "metadata": {},
   "outputs": [
    {
     "name": "stdout",
     "output_type": "stream",
     "text": [
      "-8\n",
      "12\n"
     ]
    }
   ],
   "source": [
    "number_1: float = 2\n",
    "number_2: float = -10\n",
    "print(number_1 + number_2)\n",
    "print(number_1 - number_2)"
   ]
  },
  {
   "cell_type": "markdown",
   "metadata": {},
   "source": [
    "то их приоритет становится наименьшим среди всех арифметических \n",
    "операций (они выполняются в последнюю очередь).\n",
    "Следующая бинарная операция умножение работает так, как мы \n",
    "привыкли ее использовать в математике:"
   ]
  },
  {
   "cell_type": "code",
   "execution_count": 4,
   "metadata": {},
   "outputs": [
    {
     "name": "stdout",
     "output_type": "stream",
     "text": [
      "-11.339999999999998\n"
     ]
    }
   ],
   "source": [
    "number_point_1: float = 2\n",
    "number_point_2: float = -5.8\n",
    "number_point_3: float = 2.3\n",
    "print(number_point_1 + number_point_2 * number_point_3)"
   ]
  },
  {
   "cell_type": "markdown",
   "metadata": {},
   "source": [
    "Здесь сначала выполнится умножение, а затем – сложение. Если \n",
    "необходимо изменить приоритет выполнения операций, то \n",
    "используются круглые скобки:"
   ]
  },
  {
   "cell_type": "code",
   "execution_count": 5,
   "metadata": {},
   "outputs": [
    {
     "name": "stdout",
     "output_type": "stream",
     "text": [
      "17.939999999999998\n"
     ]
    }
   ],
   "source": [
    "figure_1: float = 2\n",
    "figure_2: float = 5.8\n",
    "figure_3: float = 2.3\n",
    "print((figure_1 + figure_2) * figure_3)"
   ]
  },
  {
   "cell_type": "markdown",
   "metadata": {},
   "source": [
    "Далее, деление двух чисел (или переменных) можно выполнить двумя \n",
    "способами. Первый – традиционный, делает деление, привычное в \n",
    "математике, например:\n",
    "3/2\n",
    "получим ожидаемый результат 1,5. Однако те из вас, кто имеет опыт \n",
    "программирования на таких языках как С++ или Java, знают, что при \n",
    "делении двух целочисленных значений, результат также получался \n",
    "целочисленным. Но в Python это не так! Его арифметические \n",
    "операции работают в соответствии с классическими правилами \n",
    "математики и деление здесь – это всегда полноценное деление двух \n",
    "значений, какими бы они ни были.\n",
    "Однако, если все же требуется выполнить целочисленное деление (то \n",
    "есть, с отбрасыванием дробной части), то используется такой \n",
    "оператор:\n",
    "3//2"
   ]
  },
  {
   "cell_type": "code",
   "execution_count": 46,
   "metadata": {},
   "outputs": [
    {
     "name": "stdout",
     "output_type": "stream",
     "text": [
      "1\n"
     ]
    }
   ],
   "source": [
    "divisible: float = 3\n",
    "divider: int = 2\n",
    "print(divisible // divider)"
   ]
  },
  {
   "cell_type": "markdown",
   "metadata": {},
   "source": [
    "И, как видите, теперь результат 1, а не 1,5. Причем, это \n",
    "целочисленное деление будет выполняться и с вещественными \n",
    "числами:\n",
    "3.2//2"
   ]
  },
  {
   "cell_type": "code",
   "execution_count": 78,
   "metadata": {},
   "outputs": [
    {
     "name": "stdout",
     "output_type": "stream",
     "text": [
      "2.0\n"
     ]
    }
   ],
   "source": [
    "divisible_1: float = 4.8\n",
    "divider_2: int = 2\n",
    "print(divisible_1 // divider_2)"
   ]
  },
  {
   "cell_type": "markdown",
   "metadata": {},
   "source": [
    "Если же хотим вычислить остаток от целочисленного деления, то \n",
    "используется оператор:\n",
    "x % y\n",
    "С положительными целыми числами он работает также как и во \n",
    "многих других языках программирования. Например:"
   ]
  },
  {
   "cell_type": "code",
   "execution_count": 69,
   "metadata": {},
   "outputs": [
    {
     "name": "stdout",
     "output_type": "stream",
     "text": [
      "4\n"
     ]
    }
   ],
   "source": [
    "print(4 % 5)"
   ]
  },
  {
   "cell_type": "markdown",
   "metadata": {},
   "source": [
    "и так далее, мы будем получать числа от 0 до 4. Но с отрицательными \n",
    "числами вычисления будут отличаться от того же языка С++. \n",
    "Например,"
   ]
  },
  {
   "cell_type": "code",
   "execution_count": 7,
   "metadata": {},
   "outputs": [
    {
     "name": "stdout",
     "output_type": "stream",
     "text": [
      "1\n"
     ]
    }
   ],
   "source": [
    "number_1_1: float = -9\n",
    "number_2_1: float = 5\n",
    "print(-9 % 5)  # (в С++ это -4, а в python - это 1)"
   ]
  },
  {
   "cell_type": "markdown",
   "metadata": {},
   "source": [
    "Почему так? Дело в том, что когда то давно инженеры фирмы Intell \n",
    "неверно математически реализовали данную операцию. И язык С++ \n",
    "как наследник этой интеловской архитектуры реализует данную \n",
    "операцию путем вынесения знака «-» за скобки и вычисления \n",
    "обычного остатка от деления. Язык же Python делает это так, как \n",
    "принято в математике. Сначала находится ближайшее наименьшее \n",
    "число кратное 5. Это число -10 (для числа -9) и остаток берется как \n",
    "разность между этими числами:"
   ]
  },
  {
   "cell_type": "markdown",
   "metadata": {},
   "source": [
    "<img src=\"img\\image_2024-05-09_21-52-48.png\" style=\"height:150px\"></img>"
   ]
  },
  {
   "cell_type": "markdown",
   "metadata": {},
   "source": [
    "то есть, остатки всегда будут положительными в диапазоне от 0 до 4, \n",
    "как это и должно быть по математике."
   ]
  },
  {
   "cell_type": "markdown",
   "metadata": {},
   "source": [
    "Все рассмотренные операторы (*, /, //, %) имеют одинаковый \n",
    "приоритет и выполняются слева-направо. То есть, если записать\n",
    "a/b*c"
   ]
  },
  {
   "cell_type": "code",
   "execution_count": 13,
   "metadata": {},
   "outputs": [
    {
     "name": "stdout",
     "output_type": "stream",
     "text": [
      "25.0\n"
     ]
    }
   ],
   "source": [
    "number_a_a: float = 5\n",
    "number_a_b: float = 8\n",
    "number_a_c: float = 40\n",
    "print(number_a_a / number_a_b * number_a_c)"
   ]
  },
  {
   "cell_type": "markdown",
   "metadata": {},
   "source": [
    "Следующая операция – возведение в степень. В самом простом \n",
    "варианте она записывается так:\n",
    "x=2; y=5;\n",
    "x**y\n",
    "здесь x, y могут быть и дробными числами. Например:\n",
    "x=1.96; y=0.5;\n",
    "x**y"
   ]
  },
  {
   "cell_type": "code",
   "execution_count": 82,
   "metadata": {},
   "outputs": [
    {
     "name": "stdout",
     "output_type": "stream",
     "text": [
      "117.29730800599916\n",
      "36\n"
     ]
    }
   ],
   "source": [
    "param: float = 2.5\n",
    "param_x: float = 5.2\n",
    "print(param**param_x)\n",
    "\n",
    "word_x_1: float = 6\n",
    "degree_word_x_1: float = 2\n",
    "print(word_x_1**degree_word_x_1)"
   ]
  },
  {
   "cell_type": "markdown",
   "metadata": {},
   "source": [
    "Это будет соответствовать извлечению квадратного корня из 1,96. \n",
    "Если запишем такую конструкцию:\n",
    "27**(1/3)"
   ]
  },
  {
   "cell_type": "code",
   "execution_count": 67,
   "metadata": {},
   "outputs": [],
   "source": [
    "word_x_x: float = 27\n",
    "word_x_y: float = 1\n",
    "word_x_u: float = 3"
   ]
  },
  {
   "cell_type": "markdown",
   "metadata": {},
   "source": [
    "то получим кубический корень из 27. Причем, обратите внимание, \n",
    "круглые скобки у степени здесь обязательны, т.к. приоритет операции \n",
    "** выше, чем у деления. Если записать вот так:\n",
    "27**1/3"
   ]
  },
  {
   "cell_type": "markdown",
   "metadata": {},
   "source": [
    "Вот на это следует обращать внимание. И еще один нюанс. Операция \n",
    "возведения в степень выполняется справа-налево. То есть, если \n",
    "записать вот такую строчку:\n",
    "2**3**2"
   ]
  },
  {
   "cell_type": "markdown",
   "metadata": {},
   "source": [
    "Сначала (справа) вычисляется 3**2 = 9, а затем, 2**9 = 512. Все \n",
    "остальные арифметические операции работают слева-направо."
   ]
  },
  {
   "cell_type": "markdown",
   "metadata": {},
   "source": [
    "Используя оператор присваивания совместно с арифметическими \n",
    "операторами, можно выполнять некоторые полезные арифметические \n",
    "преобразования переменных. Например, очень часто требуется \n",
    "увеличить или уменьшить некую переменную на определенное число. \n",
    "Это можно сделать вот так:\n",
    "i = 5; j = 3\n",
    "i = i+1\n",
    "j = j-2\n",
    "print(i, j)"
   ]
  },
  {
   "cell_type": "code",
   "execution_count": 9,
   "metadata": {},
   "outputs": [
    {
     "name": "stdout",
     "output_type": "stream",
     "text": [
      "6 1\n"
     ]
    }
   ],
   "source": [
    "increase_the_variable: float = 5\n",
    "variable_1: float = 3\n",
    "num_1 = increase_the_variable + 1\n",
    "num_2 = variable_1 - 2\n",
    "print(num_1, num_2)"
   ]
  },
  {
   "cell_type": "markdown",
   "metadata": {},
   "source": [
    "Но, можно и короче, вот так:"
   ]
  },
  {
   "cell_type": "code",
   "execution_count": 23,
   "metadata": {},
   "outputs": [
    {
     "name": "stdout",
     "output_type": "stream",
     "text": [
      "6 1\n"
     ]
    }
   ],
   "source": [
    "variable_1_1: float = 5\n",
    "variable_2_1: float = 3\n",
    "variable_1_1 += 1\n",
    "variable_2_1 -= 2\n",
    "print(variable_1_1, variable_2_1)"
   ]
  },
  {
   "cell_type": "markdown",
   "metadata": {},
   "source": [
    "Они довольно часто используются в программировании. Также, \n",
    "помимо сложения и вычитания, можно записывать и такие выражения:\n",
    "i *= 3\n",
    "j /= 4\n",
    "print(i, j)\n",
    "a = 5; b = 10\n",
    "a **= 2\n",
    "b //= 3\n",
    "print(a, b)"
   ]
  },
  {
   "cell_type": "code",
   "execution_count": 24,
   "metadata": {},
   "outputs": [
    {
     "name": "stdout",
     "output_type": "stream",
     "text": [
      "12 6.0\n",
      "25 3\n"
     ]
    }
   ],
   "source": [
    "plus_1: float = 4\n",
    "plus_2: float = 24\n",
    "plus_1 *= 3\n",
    "plus_2 /= 4\n",
    "print(plus_1, plus_2)\n",
    "\n",
    "addition_1: float = 5\n",
    "addition_2: float = 10\n",
    "addition_1 **= 2\n",
    "addition_2 //= 3\n",
    "print(addition_1, addition_2)"
   ]
  },
  {
   "cell_type": "markdown",
   "metadata": {},
   "source": [
    "То есть, здесь до оператора присваивания можно записывать любую \n",
    "арифметическую операцию.\n",
    "Все рассмотренные арифметические операции можно выполнять и с \n",
    "комплексными числами:\n",
    "a = 1 + 2j\n",
    "b = 2 - 3j\n",
    "print(a+b)\n",
    "print(a-b)\n",
    "print(a*b)\n",
    "print(a/b)\n",
    "print(a**b)"
   ]
  },
  {
   "cell_type": "code",
   "execution_count": 25,
   "metadata": {},
   "outputs": [
    {
     "name": "stdout",
     "output_type": "stream",
     "text": [
      "1\n",
      "9\n",
      "-20\n",
      "-1.25\n",
      "0.0016\n"
     ]
    }
   ],
   "source": [
    "numb_1: float = 2\n",
    "numb_2: float = 6\n",
    "numb_3: float = 1 + 2 * numb_1\n",
    "numb_4: float = 2 - 3 * numb_1\n",
    "print(numb_3 + numb_4)\n",
    "print(numb_3 - numb_4)\n",
    "print(numb_3 * numb_4)\n",
    "print(numb_3 / numb_4)\n",
    "print(numb_3**numb_4)"
   ]
  },
  {
   "cell_type": "markdown",
   "metadata": {},
   "source": [
    "Кроме операции целочисленного деления // и вычисления остатка от \n",
    "деления %. Дополнительно у объектов комплексных чисел есть \n",
    "свойства:\n",
    "a = 1 + 2j\n",
    "b = 2 - 3j\n",
    "print(a.real)\n",
    "print(b.imag)"
   ]
  },
  {
   "cell_type": "code",
   "execution_count": 26,
   "metadata": {},
   "outputs": [
    {
     "name": "stdout",
     "output_type": "stream",
     "text": [
      "3\n",
      "0\n",
      "3\n"
     ]
    }
   ],
   "source": [
    "numbe_1: float = 1\n",
    "numbe_2: float = 1 + 2 * numbe_1\n",
    "numbe_3: float = 2 - 3 * numbe_1\n",
    "print(numbe_2.real)\n",
    "print(numbe_3.imag)\n",
    "sa = numbe_2.conjugate()\n",
    "print(sa)"
   ]
  },
  {
   "cell_type": "markdown",
   "metadata": {},
   "source": [
    "для взятия действительной и мнимой части. И полезный метод:\n",
    "sa = a.conjugate();\n",
    "print(sa)\n",
    "для получения комплексно-сопряженного числа."
   ]
  },
  {
   "cell_type": "markdown",
   "metadata": {},
   "source": [
    "В языке Python имеются встроенные функции для работы с числами. \n",
    "Наиболее полезные, следующие:"
   ]
  },
  {
   "cell_type": "markdown",
   "metadata": {},
   "source": [
    "<img src=\"img/image_2024-05-09_22-48-30.png\" \n",
    "    style=\"height:150px\"></img>"
   ]
  },
  {
   "cell_type": "code",
   "execution_count": 34,
   "metadata": {},
   "outputs": [
    {
     "name": "stdout",
     "output_type": "stream",
     "text": [
      "6\n",
      "6\n",
      "4\n",
      "45\n",
      "103945637534048876111514866313854976\n"
     ]
    }
   ],
   "source": [
    "num_ber_1: int = 6\n",
    "num_ber_2: float = 4\n",
    "num_ber_3: float = 9\n",
    "num_ber_4: float = 45\n",
    "print(abs(num_ber_1))\n",
    "print(round(num_ber_1))\n",
    "print(min(num_ber_1, num_ber_2, num_ber_3, num_ber_4))\n",
    "print(max(num_ber_1, num_ber_2, num_ber_3, num_ber_4))\n",
    "print(pow(num_ber_1, num_ber_4))"
   ]
  },
  {
   "cell_type": "markdown",
   "metadata": {},
   "source": [
    "Также в языке Python имеется стандартная библиотека math, которая \n",
    "содержит большое количество стандартных математических функций. \n",
    "Чтобы ей воспользоваться, необходимо вначале программы \n",
    "подключить эту библиотеку. Делается это с помощью ключевого слова \n",
    "import, за которым указывается имя библиотеки:\n",
    "import math"
   ]
  },
  {
   "cell_type": "markdown",
   "metadata": {},
   "source": [
    "После этого становятся доступными следующие полезные функции:"
   ]
  },
  {
   "cell_type": "markdown",
   "metadata": {},
   "source": [
    "<img src=\"img/image_2024-05-09_22-55-19.png\" \n",
    "    style=\"height:300px\"></img>"
   ]
  },
  {
   "cell_type": "markdown",
   "metadata": {},
   "source": [
    "Помимо этих есть и другие математические функции. При \n",
    "необходимости, о них можно почитать в официальной документации \n",
    "языка Python.\n",
    "Применение этих функций вполне очевидно, например, их можно \n",
    "вызвать вот так:\n",
    "import math\n",
    "a = 2.4\n",
    "b = math.cos(a)\n",
    "print(b)\n",
    "print( math.floor(1.7) )\n",
    "print( math.ceil(1.7) )\n",
    "print( math.sqrt(2.56) )"
   ]
  },
  {
   "cell_type": "markdown",
   "metadata": {},
   "source": [
    "И так далее. Вот так работают арифметические операции в Python и \n",
    "вот такие математические функции имеются в стандартной \n",
    "библиотеке math."
   ]
  },
  {
   "cell_type": "markdown",
   "metadata": {},
   "source": [
    "Представьте, что вам нужно вычислить модуль числа, хранящегося в \n",
    "переменной x. Как это сделать? Очевидно, нужно реализовать такой \n",
    "алгоритм."
   ]
  },
  {
   "cell_type": "markdown",
   "metadata": {},
   "source": [
    "<img src=\"img/image_2024-05-14_20-25-55.png\" style = \"height:300px\"></img>"
   ]
  },
  {
   "cell_type": "markdown",
   "metadata": {},
   "source": [
    "И в этом алгоритме есть вот такое ветвление программы: при x<0 \n",
    "меняется знак на противоположный, а при других x это не делается. В \n",
    "результате получаем модуль числа в переменной x."
   ]
  },
  {
   "cell_type": "markdown",
   "metadata": {},
   "source": [
    "Так вот, чтобы реализовать проверку таких условий в Python имеется \n",
    "один условный оператор if, который в самом простом случае имеет \n",
    "такой синтаксис:\n",
    "\n",
    "if(<условное выражение>) : оператор\n",
    "\n",
    "или так:\n",
    "\n",
    "if <условное выражение> : оператор"
   ]
  },
  {
   "cell_type": "markdown",
   "metadata": {},
   "source": [
    "Если условное выражение истинно, то выполняется оператор, \n",
    "записанный в if. Иначе этот оператор не выполняется. Используя \n",
    "оператор ветвления, запишем программу для вычисления модуля \n",
    "числа:\n"
   ]
  },
  {
   "cell_type": "code",
   "execution_count": 3,
   "metadata": {},
   "outputs": [
    {
     "name": "stdout",
     "output_type": "stream",
     "text": [
      "5\n"
     ]
    }
   ],
   "source": [
    "module_1: float = -5\n",
    "if module_1 < 0:\n",
    "    module_1 = -module_1\n",
    "print(module_1)"
   ]
  },
  {
   "cell_type": "markdown",
   "metadata": {},
   "source": [
    "Здесь операция изменения знака переменной x будет выполняться \n",
    "только для отрицательных величин, а положительные просто \n",
    "выводятся в консоль, минуя эту операцию."
   ]
  },
  {
   "cell_type": "markdown",
   "metadata": {},
   "source": [
    "Какие операторы сравнения существуют в Python и как они работают? \n",
    "Многие из них нам известны из школьного курса математики, это:"
   ]
  },
  {
   "cell_type": "markdown",
   "metadata": {},
   "source": [
    "<img src = \"img/image_2024-05-14_20-37-04.png\" style = \"height: 150px\"></img>"
   ]
  },
  {
   "cell_type": "markdown",
   "metadata": {},
   "source": [
    "Все эти операторы при сравнении возвращают булевое значение: True \n",
    "– истина или False – ложь. Например:"
   ]
  },
  {
   "cell_type": "code",
   "execution_count": 8,
   "metadata": {},
   "outputs": [
    {
     "name": "stdout",
     "output_type": "stream",
     "text": [
      "True\n",
      "False\n",
      "True\n"
     ]
    }
   ],
   "source": [
    "call_1: float = 2\n",
    "call_2: float = 1\n",
    "print(call_1 > call_2)\n",
    "print(call_1 == call_2)\n",
    "print(call_1 != call_2)"
   ]
  },
  {
   "cell_type": "markdown",
   "metadata": {},
   "source": [
    "Результат сравнения можно присвоить переменной, как и любое \n",
    "значение:"
   ]
  },
  {
   "cell_type": "code",
   "execution_count": 10,
   "metadata": {},
   "outputs": [
    {
     "name": "stdout",
     "output_type": "stream",
     "text": [
      "True\n"
     ]
    }
   ],
   "source": [
    "res_1: float = 7\n",
    "res_2: float = 5\n",
    "result = res_1 > res_2\n",
    "print(result)"
   ]
  },
  {
   "cell_type": "markdown",
   "metadata": {},
   "source": [
    "Сравнение строк"
   ]
  },
  {
   "cell_type": "markdown",
   "metadata": {},
   "source": [
    "Как вы видите, сравнение двух числовых значений выполняется \n",
    "вполне очевидным образом. Но можно ли, например, сравнивать \n",
    "строки между собой? Оказывается да, можно. Чтобы определить, что \n",
    "одна строка больше другой, Python использует «алфавитный» или \n",
    "«лексикографический» порядок. Другими словами, строки \n",
    "сравниваются посимвольно. Например:"
   ]
  },
  {
   "cell_type": "code",
   "execution_count": 16,
   "metadata": {},
   "outputs": [
    {
     "name": "stdout",
     "output_type": "stream",
     "text": [
      "True\n",
      "True\n",
      "True\n"
     ]
    }
   ],
   "source": [
    "letter_1: str = \"Я\"\n",
    "letter_2: str = \"A\"\n",
    "letter_1_1: str = \"Кот\"\n",
    "letter_1_2: str = \"Код\"\n",
    "letter_2_1: str = \"Сонный\"\n",
    "letter_2_2: str = \"Сон\"\n",
    "print(letter_1 > letter_2)\n",
    "print(letter_1_1 > letter_1_2)\n",
    "print(letter_2_1 > letter_2_2)"
   ]
  },
  {
   "cell_type": "markdown",
   "metadata": {},
   "source": [
    "Алгоритм сравнения двух строк довольно прост:\n",
    "1. Сначала сравниваются первые символы строк.\n",
    "2. Если первый символ первой строки больше (меньше), чем \n",
    "первый символ второй, то первая строка больше (меньше) \n",
    "второй.\n",
    "3. Если первые символы равны, то таким же образом сравниваются \n",
    "уже вторые символы строк."
   ]
  },
  {
   "cell_type": "markdown",
   "metadata": {},
   "source": [
    "Сравнение продолжается, пока не закончится одна из строк. Если обе \n",
    "строки заканчиваются одновременно, и все их соответствующие \n",
    "символы равны между собой, то строки считаются равными. Иначе, \n",
    "большей считается более длинная строка."
   ]
  },
  {
   "cell_type": "markdown",
   "metadata": {},
   "source": [
    "В примерах выше сравнение 'Я' > 'А' завершится на первом шаге, \n",
    "тогда как строки \"Кот\" и \"Код\" будут сравниваться посимвольно:\n"
   ]
  },
  {
   "cell_type": "markdown",
   "metadata": {},
   "source": [
    "1. К равна К.\n",
    "2. о равна о.\n",
    "3. т больше чем д."
   ]
  },
  {
   "cell_type": "markdown",
   "metadata": {},
   "source": [
    "На этом сравнение заканчивается. Первая строка больше.\n"
   ]
  },
  {
   "cell_type": "markdown",
   "metadata": {},
   "source": [
    "Конструкция if – elif – else"
   ]
  },
  {
   "cell_type": "markdown",
   "metadata": {},
   "source": [
    "Теперь, когда мы знаем как сравниваются между собой величины, \n",
    "вернемся к нашему условному оператору if. И предположим, что хотим \n",
    "определить знак числа в переменной x. Конечно, проверку можно \n",
    "записать вот так:"
   ]
  },
  {
   "cell_type": "code",
   "execution_count": 17,
   "metadata": {},
   "outputs": [
    {
     "name": "stdout",
     "output_type": "stream",
     "text": [
      "x отрицательное число\n"
     ]
    }
   ],
   "source": [
    "hrum_a: float = -5\n",
    "if hrum_a < 0:\n",
    "    print(\"hrum_a отрицательное число\")\n",
    "if hrum_a >= 0:\n",
    "    print(\"hrum_a неотрицательное число\")"
   ]
  },
  {
   "cell_type": "markdown",
   "metadata": {},
   "source": [
    "Но можно сделать лучше. Смотрите, мы здесь имеем дело со \n",
    "взаимоисключающими условиями, то есть, они не могут произойти \n",
    "одновременно: либо первое, либо второе. Для таких ситуаций можно \n",
    "использовать ключевое слово else – иначе, чтобы ускорить процесс \n",
    "проверки:"
   ]
  },
  {
   "cell_type": "code",
   "execution_count": 18,
   "metadata": {},
   "outputs": [
    {
     "name": "stdout",
     "output_type": "stream",
     "text": [
      "hrum_1 неотрицательное число\n"
     ]
    }
   ],
   "source": [
    "hrum_1: float = 5\n",
    "if hrum_1 < 0:\n",
    "    print(\"hrum_1 отрицательное число\")\n",
    "else:\n",
    "    print(\"hrum_1 неотрицательное число\")"
   ]
  },
  {
   "cell_type": "markdown",
   "metadata": {},
   "source": [
    "Теперь, у нас здесь всего одно условие. Если оно истинно, то \n",
    "выполнится первый print, а иначе – второй. Такая программа будет \n",
    "работать быстрее. И обратите внимание на синтаксис записи функции \n",
    "print: перед ней необходимо записать хотя бы один пробел (обычно\n",
    "ставится 4 пробела или символ табуляции). Эти пробелы в Python \n",
    "означают блок кода, который выполняется по некоторому условию. В \n",
    "данном случае блок кода состоит всего из одного оператора print. То \n",
    "же самое и для else."
   ]
  },
  {
   "cell_type": "markdown",
   "metadata": {},
   "source": [
    "В общем случае, синтаксис оператора if else следующий:"
   ]
  },
  {
   "cell_type": "markdown",
   "metadata": {},
   "source": [
    "if(<выражение>): оператор 1\n",
    "\n",
    "else: оператор 2"
   ]
  },
  {
   "cell_type": "markdown",
   "metadata": {},
   "source": [
    "или"
   ]
  },
  {
   "cell_type": "markdown",
   "metadata": {},
   "source": [
    "if(<выражение>):\n",
    "  \n",
    "  оператор 1\n",
    "\n",
    "else:\n",
    "\n",
    "  оператор 2\n"
   ]
  },
  {
   "cell_type": "markdown",
   "metadata": {},
   "source": [
    "Если же мы хотим по такому принципу выполнить три проверки: x > 0; \n",
    "x < 0; x == 0, то предыдущую программу можно записать так:"
   ]
  },
  {
   "cell_type": "code",
   "execution_count": 21,
   "metadata": {},
   "outputs": [
    {
     "name": "stdout",
     "output_type": "stream",
     "text": [
      "ruf_1 отрицательное число\n"
     ]
    }
   ],
   "source": [
    "ruf_1: float = -2\n",
    "if ruf_1 < 0:\n",
    "    print(\"ruf_1 отрицательное число\")\n",
    "elif ruf_1 > 0:\n",
    "    print(\"ruf_1 положительное число\")\n",
    "else:\n",
    "    print(\"ruf_1 равен 0\")"
   ]
  },
  {
   "cell_type": "markdown",
   "metadata": {},
   "source": [
    "И вообще таких конструкций"
   ]
  },
  {
   "cell_type": "markdown",
   "metadata": {},
   "source": [
    "if – elif – elif –…– elif – else"
   ]
  },
  {
   "cell_type": "markdown",
   "metadata": {},
   "source": [
    "может быть много. Далее, обратим внимание на такой факт: во всех \n",
    "наших примерах по условию шел один оператор – print. Но что если \n",
    "нужно выполнить несколько операторов по некоторому условию? Для \n",
    "этого их нужно записывать по такому синтаксису:"
   ]
  },
  {
   "cell_type": "markdown",
   "metadata": {},
   "source": [
    "if <условие>:\n",
    "    \n",
    "оператор 1\n",
    "\n",
    "оператор 1\n",
    "\n",
    "...\n",
    "\n",
    "оператор N"
   ]
  },
  {
   "cell_type": "code",
   "execution_count": 1,
   "metadata": {},
   "outputs": [
    {
     "name": "stdout",
     "output_type": "stream",
     "text": [
      "oper_1 равен 0 80\n"
     ]
    }
   ],
   "source": [
    "oper_1: int = 0\n",
    "goal: int = 80\n",
    "if oper_1 < 0:\n",
    "    goal = 2\n",
    "    print(\"oper_1 отрицательное число\", goal)\n",
    "elif oper_1 > 0:\n",
    "    goal = 1\n",
    "    print(\"x положительное число\", goal)\n",
    "else:\n",
    "    print(\"oper_1 равен 0\", goal)"
   ]
  },
  {
   "cell_type": "markdown",
   "metadata": {},
   "source": [
    "Здесь по первым двум условиям выполняется два оператора: \n",
    "присвоение значения переменной sgn и вывод результата в консоль."
   ]
  },
  {
   "cell_type": "markdown",
   "metadata": {},
   "source": [
    "В ряде случаев конструкцию if-else удобнее записывать \n",
    "через тернарный условный оператор, который имеет такой \n",
    "синтаксис:"
   ]
  },
  {
   "cell_type": "markdown",
   "metadata": {},
   "source": [
    "result = значение1 if <условие> else значение2\n"
   ]
  },
  {
   "cell_type": "markdown",
   "metadata": {},
   "source": [
    "При истинности условия возвращается значение1, в противном случае \n",
    "– значение2. Например:"
   ]
  },
  {
   "cell_type": "code",
   "execution_count": 10,
   "metadata": {},
   "outputs": [
    {
     "name": "stdout",
     "output_type": "stream",
     "text": [
      "True\n"
     ]
    }
   ],
   "source": [
    "age_1: int = 18\n",
    "accessallowed = age_1 >= 18\n",
    "print(accessallowed)"
   ]
  },
  {
   "cell_type": "markdown",
   "metadata": {},
   "source": [
    "здесь оператор >= вернет True при возрасте больше или равен 18 и \n",
    "False – в противном случае.\n"
   ]
  },
  {
   "cell_type": "markdown",
   "metadata": {},
   "source": [
    "Теперь, когда мы разобрались с базовыми моментами проверки \n",
    "условий, сделаем следующий шаг и попробуем реализовать проверку \n",
    "попадания переменной x в диапазон [2; 7], то есть, условие должно \n",
    "быть истинным, когда x принимает значения в этом диапазоне чисел. \n",
    "Очевидно, что здесь должно быть две проверки: первая – мы \n",
    "проверяем, что x >= 2 и вторая – проверяем, что x <= 7. Если оба этих \n",
    "условия выполняются одновременно, то x попадает в наш диапазон. \n",
    "Реализовать такую проверку на Python можно так:\n"
   ]
  },
  {
   "cell_type": "code",
   "execution_count": 17,
   "metadata": {},
   "outputs": [
    {
     "name": "stdout",
     "output_type": "stream",
     "text": [
      "x_1_1 попадает в [2;7]\n"
     ]
    }
   ],
   "source": [
    "x_1_1: int = 4\n",
    "if x_1_1 >= 2 <= 7:\n",
    "    print(\"x_1_1 попадает в [2;7]\")\n",
    "else:\n",
    "    print(\"x_1_1 не попадает в [2;7]\")"
   ]
  },
  {
   "cell_type": "markdown",
   "metadata": {},
   "source": [
    "Смотрите, здесь записано два условия, объединенных по И (and – это \n",
    "И). В результате, общее составное условие будет считаться \n",
    "истинным, если истинно и первое и второе условие. Если хотя бы \n",
    "одно из этих условий ложно, то ложно и все составное условие. В \n",
    "результате мы корректно реализуем проверку на вхождение значения\n",
    "переменной в диапазон [2; 7]."
   ]
  },
  {
   "cell_type": "markdown",
   "metadata": {},
   "source": [
    "А теперь давайте реализуем противоположное условие, что x не \n",
    "принадлежит диапазону [2; 7]. Условие будет таким:\n"
   ]
  },
  {
   "cell_type": "code",
   "execution_count": 20,
   "metadata": {},
   "outputs": [
    {
     "name": "stdout",
     "output_type": "stream",
     "text": [
      "x_1_2 не попадает в [2;7]\n"
     ]
    }
   ],
   "source": [
    "x_1_2: int = 40\n",
    "if x_1_2 < 2 or x_1_2 > 7:\n",
    "    print(\"x_1_2 не попадает в [2;7]\")\n",
    "else:\n",
    "    print(\"x_1_2 попадает в [2;7]\")"
   ]
  },
  {
   "cell_type": "markdown",
   "metadata": {},
   "source": [
    "Здесь в составном условии используется связка по ИЛИ (or – это ИЛИ) \n",
    "и оно будет истинно, если истинно или первое, или второе условие. То \n",
    "есть, в нашем случае, если x < 2 или x > 7, то делается вывод о \n",
    "невхождении переменной x в указанный диапазон."
   ]
  },
  {
   "cell_type": "markdown",
   "metadata": {},
   "source": [
    "Итак, запомните следующие правила:\n",
    "• условие x >= 2 and x <= 7 истинно, если истинно каждое из \n",
    "подусловий (x>=2 и x <= 7) и ложно, если ложно хотя бы одно из \n",
    "них;\n",
    "• условие x < 2 or x > 7 истинно, если истинно хотя бы одно из \n",
    "подусловий (x < 2 или x > 7) и ложно, когда оба ложны.\n"
   ]
  },
  {
   "cell_type": "markdown",
   "metadata": {},
   "source": [
    "Вот так можно записывать более сложные условия в условном \n",
    "операторе if. Причем они могут комбинироваться в любом сочетании, \n",
    "например:"
   ]
  },
  {
   "cell_type": "code",
   "execution_count": 40,
   "metadata": {},
   "outputs": [
    {
     "name": "stdout",
     "output_type": "stream",
     "text": [
      "cond не попадает в [2;7] и не попадает в [0;5]\n"
     ]
    }
   ],
   "source": [
    "cond: int = 4\n",
    "cond_1: int = 0\n",
    "if cond >= 2 <= 7 and (cond_1 < 0 or cond_1 > 0):\n",
    "    print(\"cond попадает в [2:7], и не попадает в [0;5]\")\n",
    "else:\n",
    "    print(\"cond не попадает в [2;7] и не попадает в [0;5]\")"
   ]
  },
  {
   "cell_type": "markdown",
   "metadata": {},
   "source": [
    "Здесь реализована проверка, что x должно принадлежать [2; 7], а y не \n",
    "принадлежать [0; 5]. И обратите внимание вот на эти круглые скобки."
   ]
  },
  {
   "cell_type": "markdown",
   "metadata": {},
   "source": [
    "Дело в том, что приоритет у операции and выше, чем у or, поэтому без \n",
    "скобок у нас бы получилась вот такая проверка:\n",
    "if (x >= 2 and x <= 7 and y < 0) or (y > 5)\n"
   ]
  },
  {
   "cell_type": "markdown",
   "metadata": {},
   "source": [
    "то есть, мы проверяли бы, что x принадлежит [2; 7] и y меньше нуля \n",
    "ИЛИ y больше 5. Как вы понимаете – это уже совсем другая проверка. \n",
    "Поэтому учитывайте приоритет этих операций при формировании \n",
    "составного условия. Если нужно изменить приоритет – используйте \n",
    "круглые скобки.\n"
   ]
  },
  {
   "cell_type": "markdown",
   "metadata": {},
   "source": [
    "Одиночные проверки"
   ]
  },
  {
   "cell_type": "markdown",
   "metadata": {},
   "source": [
    "Внутри условия можно прописывать и такие одиночные выражения:\n"
   ]
  },
  {
   "cell_type": "code",
   "execution_count": 71,
   "metadata": {},
   "outputs": [
    {
     "name": "stdout",
     "output_type": "stream",
     "text": [
      "can =  4 дает true\n",
      "строка 0 дает true\n",
      "0 дает false\n",
      "пустая строка даёт false\n",
      "man = true дает false\n",
      "dzen = false дает false\n"
     ]
    }
   ],
   "source": [
    "can: int = 4\n",
    "man: bool = True\n",
    "dzen: bool = False\n",
    "if can:\n",
    "    print(\"can = \", can, \"дает true\")\n",
    "    print(\"строка 0 дает true\")\n",
    "if not 0:\n",
    "    print(\"0 дает false\")\n",
    "if not \"\":\n",
    "    print(\"пустая строка даёт false\")\n",
    "if man:\n",
    "    print(\"man = true дает false\")\n",
    "if not dzen:\n",
    "    print(\"dzen = false дает false\")"
   ]
  },
  {
   "cell_type": "markdown",
   "metadata": {},
   "source": [
    "Вот этот оператор not – это отрицание – НЕ, то есть, чтобы проверить, \n",
    "что 0 – это false мы преобразовываем его в противоположное \n",
    "состояние с помощью оператора отрицания НЕ в true и условие \n",
    "срабатывает. Аналогично и с переменной z, которая равна false.\n"
   ]
  },
  {
   "cell_type": "markdown",
   "metadata": {},
   "source": [
    "Из этих примеров можно сделать такие выводы:\n",
    "1. Любое число, отличное от нуля, дает True. Число 0 \n",
    "преобразуется в False.\n",
    "2. Пустая строка – это False, любая другая строка с символами –\n",
    "это True.\n",
    "3. С помощью оператора not можно менять условие на \n",
    "противоположное (в частности, False превращать в True).\n"
   ]
  },
  {
   "cell_type": "markdown",
   "metadata": {},
   "source": [
    "Итак, в условиях мы можем использовать три оператора: and, or и not. \n",
    "Самый высокий приоритет у операции not, следующий приоритет \n",
    "имеет операция and и самый маленький приоритет у операции or. Вот \n",
    "так работает оператор if в Python"
   ]
  },
  {
   "cell_type": "markdown",
   "metadata": {},
   "source": [
    "Ни одна сколь-нибудь серьезная программа на Python не обходится \n",
    "без циклов. Что такое циклы?\n"
   ]
  },
  {
   "cell_type": "markdown",
   "metadata": {},
   "source": [
    "Представьте, что спортсмен бегает по дорожкам стадиона и решил: \n",
    "пока не прошел один час, он бежит. То есть, пока выполняется \n",
    "условие (оно истинно – не прошел час), циклично выполняются некие \n",
    "действия – бегун бежит. Вот такую операцию на уровне языка Python \n",
    "выполняет оператор цикла while, имеющий следующий синтаксис:"
   ]
  },
  {
   "attachments": {
    "image.png": {
     "image/png": "[encoded data removed]"
    }
   },
   "cell_type": "markdown",
   "metadata": {},
   "source": [
    "![image.png](attachment:image.png)"
   ]
  },
  {
   "cell_type": "markdown",
   "metadata": {},
   "source": [
    "Смотрите как в Python записывается группа операторов (тело цикла): \n",
    "вся группа должна иметь один и тот же сдвиг относительно оператора \n",
    "while (обычно ставят четыре пробела или символ табуляции). Причем \n",
    "такой отступ строго обязателен – это элемент синтаксиса python. И \n",
    "благодаря этому текст программы становится наглядным и хорошо \n",
    "читаемым. Это, безусловно, один из плюсов данного языка.\n"
   ]
  },
  {
   "cell_type": "markdown",
   "metadata": {},
   "source": [
    "Однократное выполнение тела цикла называется итерацией. То есть, \n",
    "может быть первая итерация, вторая итерация, N-я итерация и так \n",
    "далее."
   ]
  },
  {
   "cell_type": "markdown",
   "metadata": {},
   "source": [
    "Давайте в качестве примера с помощью оператора цикла while \n",
    "вычислим вот такую вот сумму:"
   ]
  },
  {
   "attachments": {
    "image.png": {
     "image/png": "[encoded data removed]"
    }
   },
   "cell_type": "markdown",
   "metadata": {},
   "source": [
    "![image.png](attachment:image.png)"
   ]
  },
  {
   "cell_type": "markdown",
   "metadata": {},
   "source": [
    "Расписывать все это через тысячу слагаемых не очень то удобно. И к \n",
    "тому же число слагаемых может зависеть от значения переменной и \n",
    "быть неопределенным. В таких задачах без циклов не обойтись. И \n",
    "программа будет выглядеть так:"
   ]
  },
  {
   "cell_type": "code",
   "execution_count": 74,
   "metadata": {},
   "outputs": [
    {
     "name": "stdout",
     "output_type": "stream",
     "text": [
      "7.485470860550343\n"
     ]
    }
   ],
   "source": [
    "somo: float = 0\n",
    "somo_1: float = 1\n",
    "while somo_1 <= 1000:\n",
    "    somo += 1 / somo_1\n",
    "    somo_1 += 1\n",
    "print(somo)"
   ]
  },
  {
   "cell_type": "markdown",
   "metadata": {},
   "source": [
    "В качестве выражения в цикле while можно писать все те же самые \n",
    "условия, что и в условном операторе if. Например, можно вычислять \n",
    "сумму S пока либо i<=1000, либо S < 5. Такое условие запишется так:\n"
   ]
  },
  {
   "cell_type": "code",
   "execution_count": 77,
   "metadata": {},
   "outputs": [],
   "source": [
    "pari_1: float = 6\n",
    "pari_2: float = 0\n",
    "while pari_2 <= 1000 and pari_1 < 5:\n",
    "    print(pari_1)"
   ]
  },
  {
   "cell_type": "markdown",
   "metadata": {},
   "source": [
    "здесь цикл будет работать пока i<=1000 и S<5 как только одно из \n",
    "подусловий станет ложным, все составное условие становится \n",
    "ложным и цикл завершит свою работу."
   ]
  },
  {
   "cell_type": "markdown",
   "metadata": {},
   "source": [
    "Вернемся к нашему спортсмену, бегущему по стадиону. И \n",
    "предположим, что прошел час, но бегун еще не завершил полный круг. \n",
    "Что произойдет? Цикл сразу завершится? Нет, проверка условия \n",
    "завершения происходит только на начальной отметке, то есть, \n",
    "спортсмен должен добежать круг целиком и только потом проверить: \n",
    "прошел час или нет."
   ]
  },
  {
   "cell_type": "markdown",
   "metadata": {},
   "source": [
    "Другими словами, пока целиком не выполнится текущая итерация \n",
    "тела цикла, оператор while продолжает свою работу. И как только \n",
    "условие цикла становится ложным, то бегун останавливается и цикл \n",
    "завершает свою работу."
   ]
  },
  {
   "cell_type": "markdown",
   "metadata": {},
   "source": [
    "А что будет, если условие в цикле while будет истинным всегда? В \n",
    "этом случае мы получим «вечный» цикл, программа фактически \n",
    "зависнет и наш спортсмен будет обречен на бесконечный бег по кругу.\n"
   ]
  },
  {
   "cell_type": "markdown",
   "metadata": {},
   "source": [
    "Далее, цикл while может иметь необязательный блок else, который \n",
    "идет после цикла:\n",
    "\n"
   ]
  },
  {
   "cell_type": "markdown",
   "metadata": {},
   "source": [
    "Это, вроде как естественный выход из оператора цикла. В нашей \n",
    "иллюстрации это может быть традиционное посещение спортсменом \n",
    "душа после пробежки."
   ]
  },
  {
   "cell_type": "markdown",
   "metadata": {},
   "source": [
    "И здесь часто возникает вопрос: а чем блок else отличается от блока \n",
    "операторов, просто идущих после блока while? Ведь когда цикл while \n",
    "завершится, мы так и так перейдем к последующим операторам! \n",
    "Однако, тут есть один нюанс. Любой оператор цикла в Python может \n",
    "быть досрочно прерван с помощью оператора"
   ]
  },
  {
   "cell_type": "markdown",
   "metadata": {},
   "source": [
    "break"
   ]
  },
  {
   "cell_type": "markdown",
   "metadata": {},
   "source": [
    "Как только он встречается в теле цикла, цикл (в данном случае while) \n",
    "завершает свою работу. Это как если вдруг возник пожар и спортсмен \n",
    "не дожидаясь окончания круга спешно бежит со стадиона. В этом \n",
    "случае спортсмену уже не до душа, он сразу хватает свои вещи и \n",
    "убегает из спортивного комплекса. То есть, при досрочном \n",
    "прерывании работы цикла while, конструкция else не выполняется и \n",
    "управление переходит на последующие операторы. Вот в чем отличие \n",
    "блока else от операторов, стоящих непосредственно после while. \n",
    "Например:"
   ]
  },
  {
   "cell_type": "code",
   "execution_count": 7,
   "metadata": {},
   "outputs": [
    {
     "name": "stdout",
     "output_type": "stream",
     "text": [
      "Сумма вычислена корректно\n",
      "-2.9289682539682538\n"
     ]
    }
   ],
   "source": [
    "sol_1: float = 0\n",
    "sol_2: float = -10\n",
    "while sol_2 < 0:\n",
    "    if sol_2 == 0:\n",
    "        break\n",
    "    sol_1 += 1 / sol_2\n",
    "    sol_2 = sol_2 + 1\n",
    "else:\n",
    "    print(\"Сумма вычислена корректно\")\n",
    "print(sol_1)"
   ]
  },
  {
   "cell_type": "markdown",
   "metadata": {},
   "source": [
    "Если здесь при вычислении суммы ожидается деление на 0, то \n",
    "срабатывает break и цикл досрочно прерывается. В этом случае блок \n",
    "else не срабатывает и мы не видим сообщения, что сумма вычислена \n",
    "корректно. Если же все проходит штатно (без вызова break), то в \n",
    "консоли появляется сообщение"
   ]
  },
  {
   "cell_type": "markdown",
   "metadata": {},
   "source": [
    "Сумма вычислена корректно"
   ]
  },
  {
   "cell_type": "markdown",
   "metadata": {},
   "source": [
    "означающее выполнение блока else."
   ]
  },
  {
   "cell_type": "markdown",
   "metadata": {},
   "source": [
    "Раз уж мы начали говорить об управляющем операторе break, сразу \n",
    "отметим второй подобный оператор"
   ]
  },
  {
   "cell_type": "markdown",
   "metadata": {},
   "source": [
    "continue"
   ]
  },
  {
   "cell_type": "markdown",
   "metadata": {},
   "source": [
    "Этот оператор позволяет пропускать тело цикла и перейти к \n",
    "следующей итерации, не прерывая работу самого цикла. Например, \n",
    "мы хотим перебрать все целые значения от -4 до 4, исключая \n",
    "значение 0. Такую программу можно реализовать так:"
   ]
  },
  {
   "cell_type": "code",
   "execution_count": 3,
   "metadata": {},
   "outputs": [
    {
     "name": "stdout",
     "output_type": "stream",
     "text": [
      "-4\n",
      "-3\n",
      "-2\n",
      "-1\n",
      "1\n",
      "2\n",
      "3\n",
      "4\n",
      "2.7755575615628914e-16\n"
     ]
    }
   ],
   "source": [
    "solt_1: float = 0\n",
    "solt_2: float = -5\n",
    "while solt_2 < 4:\n",
    "    solt_2 = solt_2 + 1\n",
    "    if solt_2 == 0:\n",
    "        continue\n",
    "    print(solt_2)\n",
    "    solt_1 += 1 / solt_2\n",
    "print(solt_1)"
   ]
  },
  {
   "cell_type": "markdown",
   "metadata": {},
   "source": [
    "При выполнении этой программы увидим, что в консоль выведены все \n",
    "значения кроме нуля. Так как при i=0 срабатывает условие и \n",
    "выполняется оператор continue. Все что находится после этого \n",
    "оператора пропускается и цикл продолжается уже со значением i=1.\n",
    "Вот так работают эти два управляющих оператора break и continue, \n",
    "которые можно использовать во всех операторах циклов.\n"
   ]
  },
  {
   "cell_type": "markdown",
   "metadata": {},
   "source": [
    "Оператор цикла for"
   ]
  },
  {
   "cell_type": "markdown",
   "metadata": {},
   "source": [
    "Следующий и, наверное, самый часто используемый оператор цикла –\n",
    "это оператор for, который имеет такой синтаксис:\n"
   ]
  },
  {
   "cell_type": "markdown",
   "metadata": {},
   "source": [
    "for <переменная> in <список> :\n",
    " операторы 1…N"
   ]
  },
  {
   "cell_type": "markdown",
   "metadata": {},
   "source": [
    "Например,"
   ]
  },
  {
   "cell_type": "code",
   "execution_count": 4,
   "metadata": {},
   "outputs": [
    {
     "name": "stdout",
     "output_type": "stream",
     "text": [
      "1\n",
      "25\n",
      "4\n",
      "16\n"
     ]
    }
   ],
   "source": [
    "for squad_1 in 1, 5, 2, 4:\n",
    "    print(squad_1**2)"
   ]
  },
  {
   "cell_type": "markdown",
   "metadata": {},
   "source": [
    "выведет в консоль квадраты соответствующих чисел. Но что, если мы \n",
    "хотим перебрать значения по порядку в соответствии с правилом:"
   ]
  },
  {
   "cell_type": "markdown",
   "metadata": {},
   "source": [
    "начальное значение, шаг, конечное значение"
   ]
  },
  {
   "cell_type": "markdown",
   "metadata": {},
   "source": [
    "Для этого используется генератор последовательностей"
   ]
  },
  {
   "cell_type": "markdown",
   "metadata": {},
   "source": [
    "range(start, stop, step)\n"
   ]
  },
  {
   "cell_type": "markdown",
   "metadata": {},
   "source": [
    "Например, если мы запишем его вот так:"
   ]
  },
  {
   "cell_type": "code",
   "execution_count": 1,
   "metadata": {},
   "outputs": [
    {
     "name": "stdout",
     "output_type": "stream",
     "text": [
      "1\n",
      "2\n",
      "3\n",
      "4\n"
     ]
    }
   ],
   "source": [
    "for carl in range(1, 5, 1):\n",
    "    print(carl)"
   ]
  },
  {
   "cell_type": "markdown",
   "metadata": {},
   "source": [
    "то в консоли увидим числа от 1 до 4 с шагом 1. То есть, range \n",
    "генерирует последовательность в интервале"
   ]
  },
  {
   "cell_type": "markdown",
   "metadata": {},
   "source": [
    "[1;5)"
   ]
  },
  {
   "cell_type": "markdown",
   "metadata": {},
   "source": [
    "Последнее значение не входит в интервал. Если в нашем примере \n",
    "поставить шаг отрицательный -1, то конечное значение 5 не может \n",
    "быть достигнуто и в этом случае Python возвратит пустую \n",
    "последовательность:"
   ]
  },
  {
   "cell_type": "code",
   "execution_count": 2,
   "metadata": {},
   "outputs": [],
   "source": [
    "for carl_1 in range(1, 5, -1):\n",
    "    print(carl_1)"
   ]
  },
  {
   "cell_type": "markdown",
   "metadata": {},
   "source": [
    "Причем, в range можно записывать только целые числа, с \n",
    "вещественными он не работает."
   ]
  },
  {
   "cell_type": "markdown",
   "metadata": {},
   "source": [
    "Давайте перепишем нашу программу подсчета суммы"
   ]
  },
  {
   "attachments": {
    "image.png": {
     "image/png": "[encoded data removed]"
    }
   },
   "cell_type": "markdown",
   "metadata": {},
   "source": [
    "![image.png](attachment:image.png)"
   ]
  },
  {
   "cell_type": "markdown",
   "metadata": {},
   "source": [
    "с помощью цикла for, получим:"
   ]
  },
  {
   "cell_type": "code",
   "execution_count": 3,
   "metadata": {},
   "outputs": [
    {
     "name": "stdout",
     "output_type": "stream",
     "text": [
      "7.485470860550343\n"
     ]
    }
   ],
   "source": [
    "sous: float = 0\n",
    "for sous_1 in range(1, 1001, 1):\n",
    "    sous += 1 / sous_1\n",
    "print(sous)"
   ]
  },
  {
   "cell_type": "markdown",
   "metadata": {},
   "source": [
    "Здесь весь цикл записан буквально в одну строчку, а тело цикла \n",
    "состоит из одного оператора – подсчета суммы ряда.\n"
   ]
  },
  {
   "cell_type": "markdown",
   "metadata": {},
   "source": [
    "Вторым примером рассмотрим задачу вычисления значений линейной \n",
    "функции"
   ]
  },
  {
   "attachments": {
    "image.png": {
     "image/png": "[encoded data removed]"
    }
   },
   "cell_type": "markdown",
   "metadata": {},
   "source": [
    "![image.png](attachment:image.png)"
   ]
  },
  {
   "cell_type": "markdown",
   "metadata": {},
   "source": [
    "Программа будет выглядеть так:\n"
   ]
  },
  {
   "cell_type": "code",
   "execution_count": 5,
   "metadata": {},
   "outputs": [
    {
     "name": "stdout",
     "output_type": "stream",
     "text": [
      "2.0\n",
      "2.05\n",
      "2.1\n",
      "2.15\n",
      "2.2\n",
      "2.25\n"
     ]
    }
   ],
   "source": [
    "karp: float = 0.5\n",
    "karp_1: float = 2\n",
    "its = [0, 0.1, 0.2, 0.3, 0.4, 0.5]\n",
    "for blin in its:\n",
    "    print(blin * karp + karp_1)"
   ]
  },
  {
   "cell_type": "markdown",
   "metadata": {},
   "source": [
    "Этот пример показывает, что для перебора значений счетчика x \n",
    "можно использовать списки, сформированные ранее в программе. (О \n",
    "списках мы подробнее будем говорить на последующих занятиях). \n",
    "Здесь же приведем еще один пример:\n"
   ]
  },
  {
   "cell_type": "code",
   "execution_count": 6,
   "metadata": {},
   "outputs": [
    {
     "name": "stdout",
     "output_type": "stream",
     "text": [
      "H\n",
      "e\n",
      "l\n",
      "l\n",
      "o\n",
      " \n",
      "W\n",
      "o\n",
      "r\n",
      "l\n",
      "d\n",
      "!\n"
     ]
    }
   ],
   "source": [
    "msg: str = \"Hello World!\"\n",
    "for hell in msg:\n",
    "    print(hell)"
   ]
  },
  {
   "cell_type": "markdown",
   "metadata": {},
   "source": [
    "Он показывает, что строку можно воспринимать как список и \n",
    "перебирать с помощью цикла for."
   ]
  },
  {
   "cell_type": "markdown",
   "metadata": {},
   "source": [
    "Также в цикле for можно использовать блок else, о котором мы \n",
    "говорили ранее:"
   ]
  },
  {
   "cell_type": "markdown",
   "metadata": {},
   "source": [
    "for <переменная> in <список> :\n"
   ]
  },
  {
   "cell_type": "markdown",
   "metadata": {},
   "source": [
    "операторы 1…N\n"
   ]
  },
  {
   "cell_type": "markdown",
   "metadata": {},
   "source": [
    "else:\n"
   ]
  },
  {
   "cell_type": "markdown",
   "metadata": {},
   "source": [
    "операторы 1…N"
   ]
  },
  {
   "cell_type": "markdown",
   "metadata": {},
   "source": [
    "Вложенные циклы"
   ]
  },
  {
   "cell_type": "markdown",
   "metadata": {},
   "source": [
    "Итак, мы с вами рассмотрели два оператора циклов: while и for. Все \n",
    "эти циклы можно комбинировать друг с другом. То есть, создавать \n",
    "вложенные циклы (цикл внутри цикла)."
   ]
  },
  {
   "cell_type": "markdown",
   "metadata": {},
   "source": [
    "Как это работает? Представьте, что бегун начинает бежать по \n",
    "большому кругу, но затем, для продолжения бега, ему необходимо \n",
    "сделать еще несколько вложенных кругов, после чего он \n",
    "возвращается на большой круг и продолжает свой бег"
   ]
  },
  {
   "cell_type": "markdown",
   "metadata": {},
   "source": [
    "В частности, такие вложенные циклы очень полезны для перебора \n",
    "элементов матрицы"
   ]
  },
  {
   "attachments": {
    "image.png": {
     "image/png": "[encoded data removed]"
    }
   },
   "cell_type": "markdown",
   "metadata": {},
   "source": [
    "![image.png](attachment:image.png)"
   ]
  },
  {
   "cell_type": "markdown",
   "metadata": {},
   "source": [
    "Тогда мы делаем первый цикл от 1 до N и вложенный от 1 до M"
   ]
  },
  {
   "cell_type": "code",
   "execution_count": 9,
   "metadata": {},
   "outputs": [
    {
     "name": "stdout",
     "output_type": "stream",
     "text": [
      "1\n",
      "2\n",
      "3\n",
      "\n",
      "4\n",
      "5\n",
      "6\n",
      "\n"
     ]
    }
   ],
   "source": [
    "one = [[1, 2, 3], [4, 5, 6]]\n",
    "two = 2\n",
    "three = 3\n",
    "for loop in range(two):\n",
    "    for loop_1 in range(three):\n",
    "        print(one[loop][loop_1])\n",
    "    print()"
   ]
  },
  {
   "cell_type": "markdown",
   "metadata": {},
   "source": [
    "Или для подсчета вот такой двойной суммы ряда"
   ]
  },
  {
   "attachments": {
    "image.png": {
     "image/png": "[encoded data removed]"
    }
   },
   "cell_type": "markdown",
   "metadata": {},
   "source": [
    "![image.png](attachment:image.png)"
   ]
  },
  {
   "cell_type": "code",
   "execution_count": 12,
   "metadata": {},
   "outputs": [
    {
     "name": "stdout",
     "output_type": "stream",
     "text": [
      "825\n"
     ]
    }
   ],
   "source": [
    "suk = 0\n",
    "suk_2 = 10\n",
    "suk_3 = 5\n",
    "for suk_4 in range(1, suk_3 + 1):\n",
    "    for suk_5 in range(1, suk_2 + 1):\n",
    "        suk += suk_4 * suk_5\n",
    "print(suk)"
   ]
  },
  {
   "cell_type": "markdown",
   "metadata": {},
   "source": [
    "Мы здесь сначала пробегаем все значения j от 1 до M при \n",
    "фиксированном i=1, затем, значение i увеличивается на 1, становится \n",
    "2 и при этом i снова пробегаются значения j от 1 до M. И так пока i не \n",
    "превысит значение N. То есть, второй цикл вложен вот в этот первый. \n",
    "И таких вложений можно делать сколько угодно."
   ]
  },
  {
   "cell_type": "markdown",
   "metadata": {},
   "source": [
    "Вот так работают операторы циклов в Python и теперь вы знаете как \n",
    "их можно применять на практике."
   ]
  },
  {
   "cell_type": "markdown",
   "metadata": {},
   "source": [
    "Часто в программах требуется хранить различные списки данных, \n",
    "например, список городов, число выигранных очков в серии игр, или \n",
    "значения некоторой функции:"
   ]
  },
  {
   "attachments": {
    "image.png": {
     "image/png": "[encoded data removed]"
    }
   },
   "cell_type": "markdown",
   "metadata": {},
   "source": [
    "![image.png](attachment:image.png)"
   ]
  },
  {
   "cell_type": "markdown",
   "metadata": {},
   "source": [
    "Все это можно представить в виде упорядоченно списка, который в \n",
    "Python задается с помощью оператора квадратных скобок:"
   ]
  },
  {
   "cell_type": "markdown",
   "metadata": {},
   "source": [
    "[элемент1, элемент2, …, элементN]"
   ]
  },
  {
   "cell_type": "markdown",
   "metadata": {},
   "source": [
    "Например, для хранения городов можно задать такой список:"
   ]
  },
  {
   "cell_type": "code",
   "execution_count": 24,
   "metadata": {},
   "outputs": [
    {
     "data": {
      "text/plain": [
       "'Казань'"
      ]
     },
     "execution_count": 24,
     "metadata": {},
     "output_type": "execute_result"
    }
   ],
   "source": [
    "spisok = [\"Москва\", \"Санкт - Петербург\", \"Тверь\", \"Казань\"]"
   ]
  },
  {
   "cell_type": "markdown",
   "metadata": {},
   "source": [
    "И он будет упорядоченный, то есть, каждому элементу здесь \n",
    "соответствует свой порядковый индекс, начиная с нулевого:"
   ]
  },
  {
   "cell_type": "markdown",
   "metadata": {},
   "source": [
    "<img src=\"img/image_2024-05-23_12-53-28.png\"></img>"
   ]
  },
  {
   "cell_type": "markdown",
   "metadata": {},
   "source": [
    "Здесь синей рамкой отмечен сам список, внутри которого \n",
    "располагаются элементы. Если мы посмотрим тип объекта, на \n",
    "который ссылается переменая lst:"
   ]
  },
  {
   "cell_type": "markdown",
   "metadata": {},
   "source": [
    "type(lst)"
   ]
  },
  {
   "cell_type": "markdown",
   "metadata": {},
   "source": [
    "то увидим значение «list». Это как раз и есть тип списка. То есть, через \n",
    "переменную lst мы можем работать со списком в целом, и первое, что \n",
    "нас здесь интересует: как обратиться к определенному элементу этого \n",
    "списка? Для этого используется такой синтаксис:"
   ]
  },
  {
   "cell_type": "markdown",
   "metadata": {},
   "source": [
    "список[индекс]"
   ]
  },
  {
   "cell_type": "markdown",
   "metadata": {},
   "source": [
    "Например,"
   ]
  },
  {
   "cell_type": "code",
   "execution_count": 19,
   "metadata": {},
   "outputs": [
    {
     "data": {
      "text/plain": [
       "'Тверь'"
      ]
     },
     "execution_count": 19,
     "metadata": {},
     "output_type": "execute_result"
    }
   ],
   "source": [
    "spisok[0]\n",
    "spisok[2]"
   ]
  },
  {
   "cell_type": "markdown",
   "metadata": {},
   "source": [
    "Но, если мы укажем не существующий индекс:"
   ]
  },
  {
   "cell_type": "markdown",
   "metadata": {},
   "source": [
    "lst[5]"
   ]
  },
  {
   "cell_type": "markdown",
   "metadata": {},
   "source": [
    "то возникнет ошибка. Чтобы этого избежать нам надо знать значение \n",
    "последнего индекса. Для этого можно воспользоваться функцией"
   ]
  },
  {
   "cell_type": "markdown",
   "metadata": {},
   "source": [
    "len(список)\n"
   ]
  },
  {
   "cell_type": "markdown",
   "metadata": {},
   "source": [
    "которая возвращает число элементов в списке:\n"
   ]
  },
  {
   "cell_type": "code",
   "execution_count": 21,
   "metadata": {},
   "outputs": [
    {
     "data": {
      "text/plain": [
       "4"
      ]
     },
     "execution_count": 21,
     "metadata": {},
     "output_type": "execute_result"
    }
   ],
   "source": [
    "len(spisok)"
   ]
  },
  {
   "cell_type": "markdown",
   "metadata": {},
   "source": [
    "вернет значение 4. Но, так как индексы начинаются с нуля, то \n",
    "последний индекс будет равен:\n"
   ]
  },
  {
   "cell_type": "markdown",
   "metadata": {},
   "source": [
    "lastIndex = len(lst) – 1"
   ]
  },
  {
   "cell_type": "markdown",
   "metadata": {},
   "source": [
    "lst[len(lst)-1]\n"
   ]
  },
  {
   "cell_type": "markdown",
   "metadata": {},
   "source": [
    "но можно и проще, вот так:\n"
   ]
  },
  {
   "cell_type": "code",
   "execution_count": 26,
   "metadata": {},
   "outputs": [
    {
     "data": {
      "text/plain": [
       "'Казань'"
      ]
     },
     "execution_count": 26,
     "metadata": {},
     "output_type": "execute_result"
    }
   ],
   "source": [
    "spisok[-1]"
   ]
  },
  {
   "cell_type": "markdown",
   "metadata": {},
   "source": [
    "Этот пример показывает, что при отрицательных индексах, мы \n",
    "начинаем движение с конца списка и значение -1 дает самый \n",
    "последний элемент."
   ]
  },
  {
   "cell_type": "markdown",
   "metadata": {},
   "source": [
    "Далее, для перебора элементов списка в Python очень удобно \n",
    "использовать цикл for:"
   ]
  },
  {
   "cell_type": "code",
   "execution_count": 27,
   "metadata": {},
   "outputs": [
    {
     "name": "stdout",
     "output_type": "stream",
     "text": [
      "Москва\n",
      "Санкт - Петербург\n",
      "Тверь\n",
      "Казань\n"
     ]
    }
   ],
   "source": [
    "spisok_1 = [\"Москва\", \"Санкт - Петербург\", \"Тверь\", \"Казань\"]\n",
    "for city in spisok:\n",
    "    print(city)"
   ]
  },
  {
   "cell_type": "markdown",
   "metadata": {},
   "source": [
    "Смотрите, как это легко и просто делается! Конечно, мы можем \n",
    "распечатать весь контейнер целиком, просто записав:"
   ]
  },
  {
   "cell_type": "code",
   "execution_count": 28,
   "metadata": {},
   "outputs": [
    {
     "name": "stdout",
     "output_type": "stream",
     "text": [
      "['Москва', 'Санкт - Петербург', 'Тверь', 'Казань']\n"
     ]
    }
   ],
   "source": [
    "print(spisok_1)"
   ]
  },
  {
   "cell_type": "markdown",
   "metadata": {},
   "source": [
    "Но здесь нет перебора всех элементов, а просто печать содержимого. \n",
    "Вернемся к циклу. Здесь переменная city будет ссылаться на \n",
    "элементы внутри списка lst. Давайте выведем в консоль \n",
    "дополнительно еще тип выводимого значения:\n"
   ]
  },
  {
   "cell_type": "code",
   "execution_count": 30,
   "metadata": {},
   "outputs": [
    {
     "name": "stdout",
     "output_type": "stream",
     "text": [
      "Казань <class 'str'>\n"
     ]
    }
   ],
   "source": [
    "print(city, type(city))"
   ]
  }
 ],
 "metadata": {
  "kernelspec": {
   "display_name": "Python 3",
   "language": "python",
   "name": "python3"
  },
  "language_info": {
   "codemirror_mode": {
    "name": "ipython",
    "version": 3
   },
   "file_extension": ".py",
   "mimetype": "text/x-python",
   "name": "python",
   "nbconvert_exporter": "python",
   "pygments_lexer": "ipython3",
   "version": "3.12.3"
  }
 },
 "nbformat": 4,
 "nbformat_minor": 2
}
