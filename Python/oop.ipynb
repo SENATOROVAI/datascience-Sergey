{
 "cells": [
  {
   "cell_type": "code",
   "execution_count": 1,
   "metadata": {},
   "outputs": [
    {
     "data": {
      "text/plain": [
       "'Модуль посвящен обьектно - ориентированному программированию.'"
      ]
     },
     "execution_count": 1,
     "metadata": {},
     "output_type": "execute_result"
    }
   ],
   "source": [
    "\"\"\"Модуль посвящен обьектно - ориентированному программированию.\"\"\""
   ]
  },
  {
   "cell_type": "code",
   "execution_count": 2,
   "metadata": {},
   "outputs": [
    {
     "data": {
      "text/plain": [
       "'Hello world!'"
      ]
     },
     "execution_count": 2,
     "metadata": {},
     "output_type": "execute_result"
    }
   ],
   "source": [
    "# define - это определять или создать функцию\n",
    "# def func_name(parameters: type) -> type:\n",
    "#   code\n",
    "\n",
    "\n",
    "# text: str = \"hello\" параметр по умолчанию\n",
    "# (если ничего в функцию при вызове функции)\n",
    "def hello(text: str = \"hello\") -> str:\n",
    "    \"\"\"Функция возвращает сообщение.\n",
    "\n",
    "    Args:\n",
    "        text (str): текст сообщения.\n",
    "\n",
    "    Returns:\n",
    "        str: возвращает строку.\n",
    "    \"\"\"\n",
    "    # f string - конструкция которая помогает подставлять переменные в строку\n",
    "    return f\"{text} world!\"\n",
    "    # return None\n",
    "\n",
    "\n",
    "# call func => func_name+()\n",
    "\n",
    "\n",
    "message = \"Hello\"\n",
    "\n",
    "# args\n",
    "hello(message)\n",
    "\n",
    "# TypeError: hello() missing 1 required positional argument: 'text'\n",
    "# Если в функции нет оператора return она возвращает return None"
   ]
  },
  {
   "cell_type": "code",
   "execution_count": 3,
   "metadata": {},
   "outputs": [
    {
     "name": "stdout",
     "output_type": "stream",
     "text": [
      "Help on function hello in module __main__:\n",
      "\n",
      "hello(text: str = 'hello') -> str\n",
      "    Функция возвращает сообщение.\n",
      "    \n",
      "    Args:\n",
      "        text (str): текст сообщения.\n",
      "    \n",
      "    Returns:\n",
      "        str: возвращает строку.\n",
      "\n"
     ]
    }
   ],
   "source": [
    "help(hello)"
   ]
  },
  {
   "cell_type": "code",
   "execution_count": 4,
   "metadata": {},
   "outputs": [
    {
     "name": "stdout",
     "output_type": "stream",
     "text": [
      "\u001b[1;31mSignature:\u001b[0m \u001b[0mhello\u001b[0m\u001b[1;33m(\u001b[0m\u001b[0mtext\u001b[0m\u001b[1;33m:\u001b[0m \u001b[0mstr\u001b[0m \u001b[1;33m=\u001b[0m \u001b[1;34m'hello'\u001b[0m\u001b[1;33m)\u001b[0m \u001b[1;33m->\u001b[0m \u001b[0mstr\u001b[0m\u001b[1;33m\u001b[0m\u001b[1;33m\u001b[0m\u001b[0m\n",
      "\u001b[1;31mDocstring:\u001b[0m\n",
      "Функция возвращает сообщение.\n",
      "\n",
      "Args:\n",
      "    text (str): текст сообщения.\n",
      "\n",
      "Returns:\n",
      "    str: возвращает строку.\n",
      "\u001b[1;31mFile:\u001b[0m      c:\\users\\admin\\appdata\\local\\temp\\ipykernel_17352\\2987865239.py\n",
      "\u001b[1;31mType:\u001b[0m      function"
     ]
    }
   ],
   "source": [
    "hello?"
   ]
  },
  {
   "cell_type": "code",
   "execution_count": 5,
   "metadata": {},
   "outputs": [],
   "source": [
    "my_func = hello()\n",
    "# hello() missing 1 required positional argument: 'text'"
   ]
  },
  {
   "cell_type": "code",
   "execution_count": 6,
   "metadata": {},
   "outputs": [
    {
     "name": "stdout",
     "output_type": "stream",
     "text": [
      "hello world!\n"
     ]
    }
   ],
   "source": [
    "# my_func = None\n",
    "print(my_func)"
   ]
  },
  {
   "cell_type": "code",
   "execution_count": 7,
   "metadata": {},
   "outputs": [
    {
     "data": {
      "text/plain": [
       "' text Hello // number - 2 world!'"
      ]
     },
     "execution_count": 7,
     "metadata": {},
     "output_type": "execute_result"
    }
   ],
   "source": [
    "# Звездочка обязывает передовать ключевые аргументы\n",
    "\n",
    "\n",
    "def hello_(*, number: int, text: str = \"hello\") -> str:\n",
    "    # Если знак \"=\" то это дефолтный параметр\n",
    "    \"\"\"Функция возвращает сообщение.\n",
    "\n",
    "    Args:\n",
    "        text (str): текст сообщения.\n",
    "\n",
    "    Returns:\n",
    "        str: возвращает строку.\n",
    "    \"\"\"\n",
    "    # f string - конструкция которая помогает подставлять переменные в строку\n",
    "    return f\" text {text} // number - {number} world!\"\n",
    "\n",
    "\n",
    "# благодаря оператору return интерпритатор покидает функцию,\n",
    "# и возвращает значения из неё\n",
    "\n",
    "# позиционные аргументы передаются через запятую\n",
    "# и присваиваются соответсвующие параметры функции\n",
    "# hello_(2, 3)\n",
    "\n",
    "# key words arguments - ключевые аргументы - рабастны к порядку\n",
    "hello_(number=2, text=\"Hello\")"
   ]
  },
  {
   "cell_type": "code",
   "execution_count": 8,
   "metadata": {},
   "outputs": [
    {
     "data": {
      "text/plain": [
       "' text hello // number - 10 world!'"
      ]
     },
     "execution_count": 8,
     "metadata": {},
     "output_type": "execute_result"
    }
   ],
   "source": [
    "# Positional-Only Arguments - /\n",
    "\n",
    "\n",
    "def hello_1(number: int = 10, text: str = \"hello\", /) -> str:\n",
    "    # Если знак \"=\" то это дефолтный параметр\n",
    "    \"\"\"Функция возвращает сообщение.\n",
    "\n",
    "    Args:\n",
    "        text (str): текст сообщения.\n",
    "\n",
    "    Returns:\n",
    "        str: возвращает строку.\n",
    "    \"\"\"\n",
    "    # f string - конструкция которая помогает подставлять переменные в строку\n",
    "    return f\" text {text} // number - {number} world!\"\n",
    "\n",
    "\n",
    "# / обязывает писать только позиционные параметры\n",
    "\n",
    "\n",
    "hello_1()"
   ]
  },
  {
   "cell_type": "code",
   "execution_count": 9,
   "metadata": {},
   "outputs": [],
   "source": [
    "my_func_2 = hello_1()\n",
    "# number = 1\n",
    "# number +=1\n",
    "# number\n",
    "\n",
    "# number.__add__(2)\n",
    "# number\n",
    "# hello.__call__()"
   ]
  },
  {
   "cell_type": "code",
   "execution_count": 10,
   "metadata": {},
   "outputs": [
    {
     "data": {
      "text/plain": [
       "' text hello // number - 10 world!'"
      ]
     },
     "execution_count": 10,
     "metadata": {},
     "output_type": "execute_result"
    }
   ],
   "source": [
    "my_func_2"
   ]
  },
  {
   "cell_type": "code",
   "execution_count": 11,
   "metadata": {},
   "outputs": [
    {
     "data": {
      "text/plain": [
       "['__annotations__',\n",
       " '__builtins__',\n",
       " '__call__',\n",
       " '__class__',\n",
       " '__closure__',\n",
       " '__code__',\n",
       " '__defaults__',\n",
       " '__delattr__',\n",
       " '__dict__',\n",
       " '__dir__',\n",
       " '__doc__',\n",
       " '__eq__',\n",
       " '__format__',\n",
       " '__ge__',\n",
       " '__get__',\n",
       " '__getattribute__',\n",
       " '__getstate__',\n",
       " '__globals__',\n",
       " '__gt__',\n",
       " '__hash__',\n",
       " '__init__',\n",
       " '__init_subclass__',\n",
       " '__kwdefaults__',\n",
       " '__le__',\n",
       " '__lt__',\n",
       " '__module__',\n",
       " '__name__',\n",
       " '__ne__',\n",
       " '__new__',\n",
       " '__qualname__',\n",
       " '__reduce__',\n",
       " '__reduce_ex__',\n",
       " '__repr__',\n",
       " '__setattr__',\n",
       " '__sizeof__',\n",
       " '__str__',\n",
       " '__subclasshook__']"
      ]
     },
     "execution_count": 11,
     "metadata": {},
     "output_type": "execute_result"
    }
   ],
   "source": [
    "# Функция dir показывает атрибуты и методы обьекта\n",
    "dir(hello_)"
   ]
  },
  {
   "cell_type": "code",
   "execution_count": 12,
   "metadata": {},
   "outputs": [
    {
     "data": {
      "text/plain": [
       "12"
      ]
     },
     "execution_count": 12,
     "metadata": {},
     "output_type": "execute_result"
    }
   ],
   "source": [
    "def new(a: int, b: int, /, *, c: int, d: int) -> int:\n",
    "    \"\"\"Функция складывает числа.\n",
    "\n",
    "    Args:\n",
    "        a (int): первое число\n",
    "        b (int): второе число\n",
    "        c (int): третье число\n",
    "        d (int): четвертое число\n",
    "\n",
    "    Returns:\n",
    "        int: возвращает сумму чисел\n",
    "    \"\"\"\n",
    "    return a + b + c + d\n",
    "\n",
    "\n",
    "# до \"/\" идут все позиционные параметры\n",
    "# после \"*\" идут все ключевые параметры\n",
    "new(1, 2, c=4, d=5)"
   ]
  },
  {
   "cell_type": "code",
   "execution_count": 13,
   "metadata": {},
   "outputs": [
    {
     "data": {
      "text/plain": [
       "((1, 2), {'kwarg': 3, 'test': 1})"
      ]
     },
     "execution_count": 13,
     "metadata": {},
     "output_type": "execute_result"
    }
   ],
   "source": [
    "def new_1(*num: int, **kwarg: int) -> tuple[tuple[int, ...], dict[str, int]]:\n",
    "    \"\"\"Функция выводит на экран числа.\n",
    "\n",
    "    Returns:\n",
    "        tuple[tuple[int, ...], dict[str, int]]: _description_\n",
    "    \"\"\"\n",
    "    return num, kwarg\n",
    "\n",
    "\n",
    "new_1(1, 2, kwarg=3, test=1)\n",
    "# функция type показывает с каким типом данных я работаю"
   ]
  },
  {
   "cell_type": "code",
   "execution_count": 14,
   "metadata": {},
   "outputs": [],
   "source": [
    "# класс - это контейнер для функций\n",
    "\n",
    "\n",
    "class Permutations:\n",
    "    \"\"\"_описание класса.\n",
    "\n",
    "    все классы наследуются от класса object, наследование означает\n",
    "    копирование методов и атрибутов класса от которого мы наследуемся.\n",
    "    Класс состоит из атрибутов и методов.\n",
    "    Функция в классе называется методами, переменные называются\n",
    "    атрибутами/поле._\n",
    "\n",
    "    Args:\n",
    "        object (_type_): _description_\n",
    "    \"\"\"\n",
    "\n",
    "    # name - это артибут (переменная) класса\n",
    "    name: str = \"Sergey\"\n",
    "\n",
    "    def __init__(self, name_val: str) -> None:\n",
    "        \"\"\"Функция возвращает строку.\n",
    "\n",
    "        Args:\n",
    "            name_val (str): _description_\n",
    "        \"\"\"\n",
    "        self.name = name_val\n",
    "\n",
    "    def get_value(self) -> str:\n",
    "        \"\"\"_Вместо self подставляется имя объекта.\n",
    "\n",
    "        Returns:\n",
    "            _type_: _description_\n",
    "        \"\"\"\n",
    "        return self.name\n",
    "\n",
    "\n",
    "# permutations.get_value()\n",
    "# что бы создать объект нужно написать имя класса плюс \"()\"\n",
    "# вместо слова self, подставляется имя объекта"
   ]
  },
  {
   "cell_type": "code",
   "execution_count": 15,
   "metadata": {},
   "outputs": [
    {
     "data": {
      "text/plain": [
       "'Sergey'"
      ]
     },
     "execution_count": 15,
     "metadata": {},
     "output_type": "execute_result"
    }
   ],
   "source": [
    "obj = Permutations(\"Sergey\")\n",
    "dir(obj)\n",
    "# имя объекта - это имя переменной.\n",
    "# obj.get_value(obj) - неявно передается первым параметром имя объекта.\n",
    "obj.get_value()"
   ]
  },
  {
   "cell_type": "code",
   "execution_count": 16,
   "metadata": {},
   "outputs": [
    {
     "data": {
      "text/plain": [
       "['__annotations__',\n",
       " '__class__',\n",
       " '__delattr__',\n",
       " '__dict__',\n",
       " '__dir__',\n",
       " '__doc__',\n",
       " '__eq__',\n",
       " '__format__',\n",
       " '__ge__',\n",
       " '__getattribute__',\n",
       " '__getstate__',\n",
       " '__gt__',\n",
       " '__hash__',\n",
       " '__init__',\n",
       " '__init_subclass__',\n",
       " '__le__',\n",
       " '__lt__',\n",
       " '__module__',\n",
       " '__ne__',\n",
       " '__new__',\n",
       " '__reduce__',\n",
       " '__reduce_ex__',\n",
       " '__repr__',\n",
       " '__setattr__',\n",
       " '__sizeof__',\n",
       " '__str__',\n",
       " '__subclasshook__',\n",
       " '__weakref__',\n",
       " 'get_value',\n",
       " 'name']"
      ]
     },
     "execution_count": 16,
     "metadata": {},
     "output_type": "execute_result"
    }
   ],
   "source": [
    "# функция dir показывает атрибуты и методы объекта\n",
    "dir(Permutations)"
   ]
  },
  {
   "cell_type": "code",
   "execution_count": 17,
   "metadata": {},
   "outputs": [
    {
     "data": {
      "text/plain": [
       "'SENATOROV'"
      ]
     },
     "execution_count": 17,
     "metadata": {},
     "output_type": "execute_result"
    }
   ],
   "source": [
    "num_1 = Permutations(\"SENATOROV\")\n",
    "num_1.get_value()"
   ]
  }
 ],
 "metadata": {
  "kernelspec": {
   "display_name": "base",
   "language": "python",
   "name": "python3"
  },
  "language_info": {
   "codemirror_mode": {
    "name": "ipython",
    "version": 3
   },
   "file_extension": ".py",
   "mimetype": "text/x-python",
   "name": "python",
   "nbconvert_exporter": "python",
   "pygments_lexer": "ipython3",
   "version": "3.11.7"
  }
 },
 "nbformat": 4,
 "nbformat_minor": 2
}
