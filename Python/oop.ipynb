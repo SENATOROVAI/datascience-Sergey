{
 "cells": [
  {
   "cell_type": "code",
   "execution_count": 1,
   "metadata": {},
   "outputs": [
    {
     "data": {
      "text/plain": [
       "'Модуль посвящен обьектно - ориентированному программированию.'"
      ]
     },
     "execution_count": 1,
     "metadata": {},
     "output_type": "execute_result"
    }
   ],
   "source": [
    "\"\"\"Модуль посвящен обьектно - ориентированному программированию.\"\"\""
   ]
  },
  {
   "cell_type": "code",
   "execution_count": 4,
   "metadata": {},
   "outputs": [
    {
     "data": {
      "text/plain": [
       "'Hello world!'"
      ]
     },
     "execution_count": 4,
     "metadata": {},
     "output_type": "execute_result"
    }
   ],
   "source": [
    "# define - это определять или создать функцию\n",
    "# def func_name(parameters: type) -> type:\n",
    "#   code\n",
    "\n",
    "\n",
    "# text: str = \"hello\" параметр по умолчанию\n",
    "# (если ничего в функцию при вызове функции)\n",
    "def hello(text: str = \"hello\") -> str:\n",
    "    \"\"\"Функция возвращает сообщение.\n",
    "\n",
    "    Args:\n",
    "        text (str): текст сообщения.\n",
    "\n",
    "    Returns:\n",
    "        str: возвращает строку.\n",
    "    \"\"\"\n",
    "    # f string - конструкция которая помогает подставлять переменные в строку\n",
    "    return f\"{text} world!\"\n",
    "    # return None\n",
    "\n",
    "\n",
    "# call func => func_name+()\n",
    "\n",
    "\n",
    "message = \"Hello\"\n",
    "\n",
    "# args\n",
    "hello(message)\n",
    "\n",
    "# TypeError: hello() missing 1 required positional argument: 'text'\n",
    "# Если в функции нет оператора return она возвращает return None"
   ]
  },
  {
   "cell_type": "code",
   "execution_count": 5,
   "metadata": {},
   "outputs": [
    {
     "name": "stdout",
     "output_type": "stream",
     "text": [
      "Help on function hello in module __main__:\n",
      "\n",
      "hello(text: str) -> None\n",
      "    Функция возвращает сообщение\n",
      "    \n",
      "    Args:\n",
      "        text (str): текст сообщения\n",
      "    \n",
      "    Returns:\n",
      "        str: возвращает строку\n",
      "\n"
     ]
    }
   ],
   "source": [
    "help(hello)"
   ]
  },
  {
   "cell_type": "code",
   "execution_count": 6,
   "metadata": {},
   "outputs": [
    {
     "name": "stdout",
     "output_type": "stream",
     "text": [
      "\u001b[1;31mSignature:\u001b[0m \u001b[0mhello\u001b[0m\u001b[1;33m(\u001b[0m\u001b[0mtext\u001b[0m\u001b[1;33m:\u001b[0m \u001b[0mstr\u001b[0m\u001b[1;33m)\u001b[0m \u001b[1;33m->\u001b[0m \u001b[1;32mNone\u001b[0m\u001b[1;33m\u001b[0m\u001b[1;33m\u001b[0m\u001b[0m\n",
      "\u001b[1;31mDocstring:\u001b[0m\n",
      "Функция возвращает сообщение\n",
      "\n",
      "Args:\n",
      "    text (str): текст сообщения\n",
      "\n",
      "Returns:\n",
      "    str: возвращает строку\n",
      "\u001b[1;31mFile:\u001b[0m      c:\\users\\admin\\appdata\\local\\temp\\ipykernel_3696\\363012592.py\n",
      "\u001b[1;31mType:\u001b[0m      function"
     ]
    }
   ],
   "source": [
    "hello?"
   ]
  },
  {
   "cell_type": "code",
   "execution_count": null,
   "metadata": {},
   "outputs": [],
   "source": [
    "my_func = hello()\n",
    "# hello() missing 1 required positional argument: 'text'"
   ]
  },
  {
   "cell_type": "code",
   "execution_count": 13,
   "metadata": {},
   "outputs": [
    {
     "name": "stdout",
     "output_type": "stream",
     "text": [
      "None\n"
     ]
    }
   ],
   "source": [
    "# my_func = None\n",
    "print(my_func)"
   ]
  },
  {
   "cell_type": "code",
   "execution_count": 13,
   "metadata": {},
   "outputs": [
    {
     "data": {
      "text/plain": [
       "' text Hello // number - 2 world!'"
      ]
     },
     "execution_count": 13,
     "metadata": {},
     "output_type": "execute_result"
    }
   ],
   "source": [
    "# Звездочка обязывает передовать ключевые аргументы\n",
    "def hello_(*, number: int, text: str = \"hello\") -> str:\n",
    "    # Если знак \"=\" то это дефолтный параметр\n",
    "    \"\"\"Функция возвращает сообщение.\n",
    "\n",
    "    Args:\n",
    "        text (str): текст сообщения.\n",
    "\n",
    "    Returns:\n",
    "        str: возвращает строку.\n",
    "    \"\"\"\n",
    "    # f string - конструкция которая помогает подставлять переменные в строку\n",
    "    return f\" text {text} // number - {number} world!\"\n",
    "\n",
    "\n",
    "# благодаря оператору return интерпритатор покидает функцию,\n",
    "# и возвращает значения из неё\n",
    "\n",
    "# позиционные аргументы передаются через запятую\n",
    "# и присваиваются соответсвующие параметры функции\n",
    "# hello_(2, 3)\n",
    "\n",
    "# key words arguments - ключевые аргументы - рабастны к порядку\n",
    "hello_(number=2, text=\"Hello\")"
   ]
  },
  {
   "cell_type": "code",
   "execution_count": 11,
   "metadata": {},
   "outputs": [
    {
     "data": {
      "text/plain": [
       "' text hello // number - 10 world!'"
      ]
     },
     "execution_count": 11,
     "metadata": {},
     "output_type": "execute_result"
    }
   ],
   "source": [
    "# Positional-Only Arguments - /\n",
    "def hello_1(number: int = 10, text: str = \"hello\", /) -> str:\n",
    "    # Если знак \"=\" то это дефолтный параметр\n",
    "    \"\"\"Функция возвращает сообщение.\n",
    "\n",
    "    Args:\n",
    "        text (str): текст сообщения.\n",
    "\n",
    "    Returns:\n",
    "        str: возвращает строку.\n",
    "    \"\"\"\n",
    "    # f string - конструкция которая помогает подставлять переменные в строку\n",
    "    return f\" text {text} // number - {number} world!\"\n",
    "\n",
    "\n",
    "hello_1()"
   ]
  },
  {
   "cell_type": "code",
   "execution_count": 9,
   "metadata": {},
   "outputs": [],
   "source": [
    "my_func_2 = hello_1()\n",
    "# number = 1\n",
    "# number +=1\n",
    "# number\n",
    "\n",
    "# number.__add__(2)\n",
    "# number\n",
    "# hello.__call__()"
   ]
  },
  {
   "cell_type": "code",
   "execution_count": 33,
   "metadata": {},
   "outputs": [
    {
     "data": {
      "text/plain": [
       "'hello world!'"
      ]
     },
     "execution_count": 33,
     "metadata": {},
     "output_type": "execute_result"
    }
   ],
   "source": [
    "my_func_2"
   ]
  },
  {
   "cell_type": "code",
   "execution_count": null,
   "metadata": {},
   "outputs": [],
   "source": [
    "# Функция dir показывает атрибуты и методы обьекта\n",
    "dir(hello_)"
   ]
  },
  {
   "cell_type": "code",
   "execution_count": null,
   "metadata": {},
   "outputs": [],
   "source": []
  }
 ],
 "metadata": {
  "kernelspec": {
   "display_name": "base",
   "language": "python",
   "name": "python3"
  },
  "language_info": {
   "codemirror_mode": {
    "name": "ipython",
    "version": 3
   },
   "file_extension": ".py",
   "mimetype": "text/x-python",
   "name": "python",
   "nbconvert_exporter": "python",
   "pygments_lexer": "ipython3",
   "version": "3.11.7"
  }
 },
 "nbformat": 4,
 "nbformat_minor": 2
}
